{
 "cells": [
  {
   "cell_type": "markdown",
   "metadata": {},
   "source": [
    "# European Soccer Analysis ⚽ 📈\n",
    "\n",
    "## Table of Contents\n",
    "<ul>\n",
    "<li><a href=\"#intro\">Introduction</a></li>\n",
    "<li><a href=\"#wrangling\">Data Wrangling</a></li>\n",
    "<li><a href=\"#eda\">Exploratory Data Analysis</a></li>\n",
    "<li><a href=\"#conclusions\">Conclusions</a></li>\n",
    "</ul>"
   ]
  },
  {
   "cell_type": "markdown",
   "metadata": {},
   "source": [
    "<a id='intro'></a>\n",
    "## Introduction\n",
    "\n",
    "### Dataset Description 📜\n",
    "\n",
    "The dataset we shall be using in this project is the [European Soccer Database](https://www.kaggle.com/datasets/hugomathien/soccer) ⚽. It contains data from soccer matches, players, and teams from several European countries which runs from 2008/2009 to 2015/2016 season. Originally it is available as an sql database but I managed to get the tables as \".csv\" from [Udacity](https://www.udacity.com/).\n",
    "The tables provided include:\n",
    "\n",
    "|Table\t  |Total Rows|Total Columns|\n",
    "|:--------|----------|------------:|              \n",
    "|Country         |11\t|2|\n",
    "|League |11\t|3|\n",
    "|Match\t|25979|115|\n",
    "|Player\t|11060|7|\n",
    "|Player_Attributes|183978|42|\n",
    "|Team\t|299\t|5|\n",
    "|Team_Attributes|\t1458|\t25|\n",
    "\n",
    "These tables combined provide information on:\n",
    "- +25,000 matches\n",
    "- +10,000 players\n",
    "- 11 European Countries with their lead championship\n",
    "- Seasons 2008 to 2016\n",
    "- Players and Teams' attributes* sourced from EA Sports' FIFA video game series, including the weekly updates\n",
    "- Team line up with squad formation (X, Y coordinates)\n",
    "- Betting odds from up to 10 providers\n",
    "- Detailed match events (goal types, possession, corner, cross, fouls, cards etc…) for +10,000 matches\n",
    "\n",
    "<a name='questions'></a>\n",
    "### Questions for Analysis  🔎\n",
    "\n",
    "  **A) Season-specific analysis**\n",
    "  > Case Study : **2️⃣0️⃣1️⃣5️⃣ / 2️⃣0️⃣1️⃣6️⃣ season**\n",
    "  >\n",
    "  > 🗣️ _Here we shall be focusing on events that occured during the 2015/2016 season across all leagues_\n",
    "    \n",
    "    1) Which league witnessed the most goals?\n",
    "    2) Were the non-tie matches generally won by the home team? (Note: A non-tie match is one which has a winner)\n",
    "    \n",
    "\n",
    "  **B) League-specific Analysis**\n",
    "   > Case Study : **English Premier League (EPL) 🏴󠁧󠁢󠁥󠁮󠁧󠁿**\n",
    "   >\n",
    "   > 🗣️ _Here we shall be focusing on events that occured in the EPL across all seasons_\n",
    "\n",
    "    3) Which season recorded the least draws? \n",
    "    4) Who are the highest league winners?\n",
    "    5) Does the top scoring team generally win the league?\n"
   ]
  },
  {
   "cell_type": "code",
   "execution_count": 1,
   "metadata": {},
   "outputs": [],
   "source": [
    "#importing neccesary packages\n",
    "import pandas as pd\n",
    "import numpy as np\n",
    "import matplotlib.pyplot as plt\n",
    "%matplotlib inline"
   ]
  },
  {
   "cell_type": "markdown",
   "metadata": {},
   "source": [
    "<a id='wrangling'></a>\n",
    "## Data Wrangling 🛠️\n",
    "\n",
    "<a id='gp'></a>\n",
    "### General Properties\n",
    "> 🗣️ **Here we will be looking into what type of information our dataset contains and assessing its state.**"
   ]
  },
  {
   "cell_type": "code",
   "execution_count": 2,
   "metadata": {},
   "outputs": [],
   "source": [
    "# Load the all the data\n",
    "country_df = pd.read_csv(\"Database_Soccer/Country.csv\")\n",
    "league_df = pd.read_csv(\"Database_Soccer/League.csv\")\n",
    "match_df = pd.read_csv(\"Database_Soccer/Match.csv\")\n",
    "team_df = pd.read_csv(\"Database_Soccer/Team.csv\")\n",
    "team_attr_df = pd.read_csv(\"Database_Soccer/Team_Attributes.csv\") \n",
    "player_df = pd.read_csv(\"Database_Soccer/Player.csv\")\n",
    "player_attr_df = pd.read_csv(\"Database_Soccer/Player_Attributes.csv\")"
   ]
  },
  {
   "cell_type": "markdown",
   "metadata": {},
   "source": [
    "Though we have loaded all the tables, we will only work on those required in answering the questions posed previously. These include: **league_df**, **match_df**, and **team_df**. "
   ]
  },
  {
   "cell_type": "markdown",
   "metadata": {},
   "source": [
    "> i) **match_df** properties"
   ]
  },
  {
   "cell_type": "code",
   "execution_count": 3,
   "metadata": {},
   "outputs": [
    {
     "data": {
      "text/html": [
       "<div>\n",
       "<style scoped>\n",
       "    .dataframe tbody tr th:only-of-type {\n",
       "        vertical-align: middle;\n",
       "    }\n",
       "\n",
       "    .dataframe tbody tr th {\n",
       "        vertical-align: top;\n",
       "    }\n",
       "\n",
       "    .dataframe thead th {\n",
       "        text-align: right;\n",
       "    }\n",
       "</style>\n",
       "<table border=\"1\" class=\"dataframe\">\n",
       "  <thead>\n",
       "    <tr style=\"text-align: right;\">\n",
       "      <th></th>\n",
       "      <th>id</th>\n",
       "      <th>country_id</th>\n",
       "      <th>league_id</th>\n",
       "      <th>season</th>\n",
       "      <th>stage</th>\n",
       "      <th>date</th>\n",
       "      <th>match_api_id</th>\n",
       "      <th>home_team_api_id</th>\n",
       "      <th>away_team_api_id</th>\n",
       "      <th>home_team_goal</th>\n",
       "      <th>...</th>\n",
       "      <th>SJA</th>\n",
       "      <th>VCH</th>\n",
       "      <th>VCD</th>\n",
       "      <th>VCA</th>\n",
       "      <th>GBH</th>\n",
       "      <th>GBD</th>\n",
       "      <th>GBA</th>\n",
       "      <th>BSH</th>\n",
       "      <th>BSD</th>\n",
       "      <th>BSA</th>\n",
       "    </tr>\n",
       "  </thead>\n",
       "  <tbody>\n",
       "    <tr>\n",
       "      <th>0</th>\n",
       "      <td>1</td>\n",
       "      <td>1</td>\n",
       "      <td>1</td>\n",
       "      <td>2008/2009</td>\n",
       "      <td>1</td>\n",
       "      <td>2008-08-17 00:00:00</td>\n",
       "      <td>492473</td>\n",
       "      <td>9987</td>\n",
       "      <td>9993</td>\n",
       "      <td>1</td>\n",
       "      <td>...</td>\n",
       "      <td>4.00</td>\n",
       "      <td>1.65</td>\n",
       "      <td>3.40</td>\n",
       "      <td>4.50</td>\n",
       "      <td>1.78</td>\n",
       "      <td>3.25</td>\n",
       "      <td>4.00</td>\n",
       "      <td>1.73</td>\n",
       "      <td>3.40</td>\n",
       "      <td>4.20</td>\n",
       "    </tr>\n",
       "    <tr>\n",
       "      <th>1</th>\n",
       "      <td>2</td>\n",
       "      <td>1</td>\n",
       "      <td>1</td>\n",
       "      <td>2008/2009</td>\n",
       "      <td>1</td>\n",
       "      <td>2008-08-16 00:00:00</td>\n",
       "      <td>492474</td>\n",
       "      <td>10000</td>\n",
       "      <td>9994</td>\n",
       "      <td>0</td>\n",
       "      <td>...</td>\n",
       "      <td>3.80</td>\n",
       "      <td>2.00</td>\n",
       "      <td>3.25</td>\n",
       "      <td>3.25</td>\n",
       "      <td>1.85</td>\n",
       "      <td>3.25</td>\n",
       "      <td>3.75</td>\n",
       "      <td>1.91</td>\n",
       "      <td>3.25</td>\n",
       "      <td>3.60</td>\n",
       "    </tr>\n",
       "    <tr>\n",
       "      <th>2</th>\n",
       "      <td>3</td>\n",
       "      <td>1</td>\n",
       "      <td>1</td>\n",
       "      <td>2008/2009</td>\n",
       "      <td>1</td>\n",
       "      <td>2008-08-16 00:00:00</td>\n",
       "      <td>492475</td>\n",
       "      <td>9984</td>\n",
       "      <td>8635</td>\n",
       "      <td>0</td>\n",
       "      <td>...</td>\n",
       "      <td>2.50</td>\n",
       "      <td>2.35</td>\n",
       "      <td>3.25</td>\n",
       "      <td>2.65</td>\n",
       "      <td>2.50</td>\n",
       "      <td>3.20</td>\n",
       "      <td>2.50</td>\n",
       "      <td>2.30</td>\n",
       "      <td>3.20</td>\n",
       "      <td>2.75</td>\n",
       "    </tr>\n",
       "    <tr>\n",
       "      <th>3</th>\n",
       "      <td>4</td>\n",
       "      <td>1</td>\n",
       "      <td>1</td>\n",
       "      <td>2008/2009</td>\n",
       "      <td>1</td>\n",
       "      <td>2008-08-17 00:00:00</td>\n",
       "      <td>492476</td>\n",
       "      <td>9991</td>\n",
       "      <td>9998</td>\n",
       "      <td>5</td>\n",
       "      <td>...</td>\n",
       "      <td>7.50</td>\n",
       "      <td>1.45</td>\n",
       "      <td>3.75</td>\n",
       "      <td>6.50</td>\n",
       "      <td>1.50</td>\n",
       "      <td>3.75</td>\n",
       "      <td>5.50</td>\n",
       "      <td>1.44</td>\n",
       "      <td>3.75</td>\n",
       "      <td>6.50</td>\n",
       "    </tr>\n",
       "    <tr>\n",
       "      <th>4</th>\n",
       "      <td>5</td>\n",
       "      <td>1</td>\n",
       "      <td>1</td>\n",
       "      <td>2008/2009</td>\n",
       "      <td>1</td>\n",
       "      <td>2008-08-16 00:00:00</td>\n",
       "      <td>492477</td>\n",
       "      <td>7947</td>\n",
       "      <td>9985</td>\n",
       "      <td>1</td>\n",
       "      <td>...</td>\n",
       "      <td>1.73</td>\n",
       "      <td>4.50</td>\n",
       "      <td>3.40</td>\n",
       "      <td>1.65</td>\n",
       "      <td>4.50</td>\n",
       "      <td>3.50</td>\n",
       "      <td>1.65</td>\n",
       "      <td>4.75</td>\n",
       "      <td>3.30</td>\n",
       "      <td>1.67</td>\n",
       "    </tr>\n",
       "  </tbody>\n",
       "</table>\n",
       "<p>5 rows × 115 columns</p>\n",
       "</div>"
      ],
      "text/plain": [
       "   id  country_id  league_id     season  stage                 date  \\\n",
       "0   1           1          1  2008/2009      1  2008-08-17 00:00:00   \n",
       "1   2           1          1  2008/2009      1  2008-08-16 00:00:00   \n",
       "2   3           1          1  2008/2009      1  2008-08-16 00:00:00   \n",
       "3   4           1          1  2008/2009      1  2008-08-17 00:00:00   \n",
       "4   5           1          1  2008/2009      1  2008-08-16 00:00:00   \n",
       "\n",
       "   match_api_id  home_team_api_id  away_team_api_id  home_team_goal  ...  \\\n",
       "0        492473              9987              9993               1  ...   \n",
       "1        492474             10000              9994               0  ...   \n",
       "2        492475              9984              8635               0  ...   \n",
       "3        492476              9991              9998               5  ...   \n",
       "4        492477              7947              9985               1  ...   \n",
       "\n",
       "    SJA   VCH   VCD   VCA   GBH   GBD   GBA   BSH   BSD   BSA  \n",
       "0  4.00  1.65  3.40  4.50  1.78  3.25  4.00  1.73  3.40  4.20  \n",
       "1  3.80  2.00  3.25  3.25  1.85  3.25  3.75  1.91  3.25  3.60  \n",
       "2  2.50  2.35  3.25  2.65  2.50  3.20  2.50  2.30  3.20  2.75  \n",
       "3  7.50  1.45  3.75  6.50  1.50  3.75  5.50  1.44  3.75  6.50  \n",
       "4  1.73  4.50  3.40  1.65  4.50  3.50  1.65  4.75  3.30  1.67  \n",
       "\n",
       "[5 rows x 115 columns]"
      ]
     },
     "execution_count": 3,
     "metadata": {},
     "output_type": "execute_result"
    }
   ],
   "source": [
    "# first five columns of the match dataframe\n",
    "match_df.head(5)"
   ]
  },
  {
   "cell_type": "code",
   "execution_count": 4,
   "metadata": {},
   "outputs": [
    {
     "data": {
      "text/plain": [
       "(25979, 115)"
      ]
     },
     "execution_count": 4,
     "metadata": {},
     "output_type": "execute_result"
    }
   ],
   "source": [
    "#number of rows and columns in the match dataframe\n",
    "match_df.shape"
   ]
  },
  {
   "cell_type": "markdown",
   "metadata": {},
   "source": [
    "It turns out that **match_df** dataframe has **25979 rows** & **115 columns**. For us to have a better glance into the names of the columns this dataframe contains, we will split it into two "
   ]
  },
  {
   "cell_type": "code",
   "execution_count": 5,
   "metadata": {},
   "outputs": [
    {
     "data": {
      "text/plain": [
       "0"
      ]
     },
     "execution_count": 5,
     "metadata": {},
     "output_type": "execute_result"
    }
   ],
   "source": [
    "#check number of duplicated rows if any\n",
    "match_df.duplicated().sum()"
   ]
  },
  {
   "cell_type": "code",
   "execution_count": 6,
   "metadata": {},
   "outputs": [
    {
     "data": {
      "text/plain": [
       "Index(['id', 'country_id', 'league_id', 'season', 'stage', 'date',\n",
       "       'match_api_id', 'home_team_api_id', 'away_team_api_id',\n",
       "       'home_team_goal', 'away_team_goal', 'home_player_X1', 'home_player_X2',\n",
       "       'home_player_X3', 'home_player_X4', 'home_player_X5', 'home_player_X6',\n",
       "       'home_player_X7', 'home_player_X8', 'home_player_X9', 'home_player_X10',\n",
       "       'home_player_X11', 'away_player_X1', 'away_player_X2', 'away_player_X3',\n",
       "       'away_player_X4', 'away_player_X5', 'away_player_X6', 'away_player_X7',\n",
       "       'away_player_X8', 'away_player_X9', 'away_player_X10',\n",
       "       'away_player_X11', 'home_player_Y1', 'home_player_Y2', 'home_player_Y3',\n",
       "       'home_player_Y4', 'home_player_Y5', 'home_player_Y6', 'home_player_Y7',\n",
       "       'home_player_Y8', 'home_player_Y9', 'home_player_Y10',\n",
       "       'home_player_Y11', 'away_player_Y1', 'away_player_Y2', 'away_player_Y3',\n",
       "       'away_player_Y4', 'away_player_Y5', 'away_player_Y6', 'away_player_Y7',\n",
       "       'away_player_Y8', 'away_player_Y9', 'away_player_Y10',\n",
       "       'away_player_Y11', 'home_player_1', 'home_player_2', 'home_player_3',\n",
       "       'home_player_4', 'home_player_5'],\n",
       "      dtype='object')"
      ]
     },
     "execution_count": 6,
     "metadata": {},
     "output_type": "execute_result"
    }
   ],
   "source": [
    "#First 60 columns\n",
    "match_df.columns[:60]"
   ]
  },
  {
   "cell_type": "code",
   "execution_count": 7,
   "metadata": {},
   "outputs": [
    {
     "data": {
      "text/plain": [
       "Index(['home_player_6', 'home_player_7', 'home_player_8', 'home_player_9',\n",
       "       'home_player_10', 'home_player_11', 'away_player_1', 'away_player_2',\n",
       "       'away_player_3', 'away_player_4', 'away_player_5', 'away_player_6',\n",
       "       'away_player_7', 'away_player_8', 'away_player_9', 'away_player_10',\n",
       "       'away_player_11', 'goal', 'shoton', 'shotoff', 'foulcommit', 'card',\n",
       "       'cross', 'corner', 'possession', 'B365H', 'B365D', 'B365A', 'BWH',\n",
       "       'BWD', 'BWA', 'IWH', 'IWD', 'IWA', 'LBH', 'LBD', 'LBA', 'PSH', 'PSD',\n",
       "       'PSA', 'WHH', 'WHD', 'WHA', 'SJH', 'SJD', 'SJA', 'VCH', 'VCD', 'VCA',\n",
       "       'GBH', 'GBD', 'GBA', 'BSH', 'BSD', 'BSA'],\n",
       "      dtype='object')"
      ]
     },
     "execution_count": 7,
     "metadata": {},
     "output_type": "execute_result"
    }
   ],
   "source": [
    "#The 55 other columns\n",
    "match_df.columns[60:]"
   ]
  },
  {
   "cell_type": "markdown",
   "metadata": {},
   "source": [
    "Now that we have a clearer view of the columns in the _**match_df**_, we can see that there are a lot of columns which will not be needed moving forward. In the [cleaning section](#cleaning) we will get rid of the unneeded ones and only then will we look into the information."
   ]
  },
  {
   "cell_type": "markdown",
   "metadata": {},
   "source": [
    "> ii) **team_df** properties "
   ]
  },
  {
   "cell_type": "code",
   "execution_count": 8,
   "metadata": {},
   "outputs": [
    {
     "data": {
      "text/html": [
       "<div>\n",
       "<style scoped>\n",
       "    .dataframe tbody tr th:only-of-type {\n",
       "        vertical-align: middle;\n",
       "    }\n",
       "\n",
       "    .dataframe tbody tr th {\n",
       "        vertical-align: top;\n",
       "    }\n",
       "\n",
       "    .dataframe thead th {\n",
       "        text-align: right;\n",
       "    }\n",
       "</style>\n",
       "<table border=\"1\" class=\"dataframe\">\n",
       "  <thead>\n",
       "    <tr style=\"text-align: right;\">\n",
       "      <th></th>\n",
       "      <th>id</th>\n",
       "      <th>team_api_id</th>\n",
       "      <th>team_fifa_api_id</th>\n",
       "      <th>team_long_name</th>\n",
       "      <th>team_short_name</th>\n",
       "    </tr>\n",
       "  </thead>\n",
       "  <tbody>\n",
       "    <tr>\n",
       "      <th>0</th>\n",
       "      <td>1</td>\n",
       "      <td>9987</td>\n",
       "      <td>673.0</td>\n",
       "      <td>KRC Genk</td>\n",
       "      <td>GEN</td>\n",
       "    </tr>\n",
       "    <tr>\n",
       "      <th>1</th>\n",
       "      <td>2</td>\n",
       "      <td>9993</td>\n",
       "      <td>675.0</td>\n",
       "      <td>Beerschot AC</td>\n",
       "      <td>BAC</td>\n",
       "    </tr>\n",
       "    <tr>\n",
       "      <th>2</th>\n",
       "      <td>3</td>\n",
       "      <td>10000</td>\n",
       "      <td>15005.0</td>\n",
       "      <td>SV Zulte-Waregem</td>\n",
       "      <td>ZUL</td>\n",
       "    </tr>\n",
       "    <tr>\n",
       "      <th>3</th>\n",
       "      <td>4</td>\n",
       "      <td>9994</td>\n",
       "      <td>2007.0</td>\n",
       "      <td>Sporting Lokeren</td>\n",
       "      <td>LOK</td>\n",
       "    </tr>\n",
       "    <tr>\n",
       "      <th>4</th>\n",
       "      <td>5</td>\n",
       "      <td>9984</td>\n",
       "      <td>1750.0</td>\n",
       "      <td>KSV Cercle Brugge</td>\n",
       "      <td>CEB</td>\n",
       "    </tr>\n",
       "  </tbody>\n",
       "</table>\n",
       "</div>"
      ],
      "text/plain": [
       "   id  team_api_id  team_fifa_api_id     team_long_name team_short_name\n",
       "0   1         9987             673.0           KRC Genk             GEN\n",
       "1   2         9993             675.0       Beerschot AC             BAC\n",
       "2   3        10000           15005.0   SV Zulte-Waregem             ZUL\n",
       "3   4         9994            2007.0   Sporting Lokeren             LOK\n",
       "4   5         9984            1750.0  KSV Cercle Brugge             CEB"
      ]
     },
     "execution_count": 8,
     "metadata": {},
     "output_type": "execute_result"
    }
   ],
   "source": [
    "#first five rows of the team dataframe\n",
    "team_df.head(5)"
   ]
  },
  {
   "cell_type": "code",
   "execution_count": 9,
   "metadata": {
    "scrolled": true
   },
   "outputs": [
    {
     "data": {
      "text/plain": [
       "(299, 5)"
      ]
     },
     "execution_count": 9,
     "metadata": {},
     "output_type": "execute_result"
    }
   ],
   "source": [
    "#number of rows and columns in the team dataframe\n",
    "team_df.shape"
   ]
  },
  {
   "cell_type": "code",
   "execution_count": 10,
   "metadata": {},
   "outputs": [
    {
     "data": {
      "text/plain": [
       "299"
      ]
     },
     "execution_count": 10,
     "metadata": {},
     "output_type": "execute_result"
    }
   ],
   "source": [
    "#number of unique team api id\n",
    "team_df.team_api_id.nunique()"
   ]
  },
  {
   "cell_type": "markdown",
   "metadata": {},
   "source": [
    "Based the above 2 cells, we confirm that each row corresponds to a single team because number rows equals the number of unique team api ids. This check was to ensure that there will be no conflicts when try to merge this dataframe with that of matches later on.   "
   ]
  },
  {
   "cell_type": "code",
   "execution_count": 11,
   "metadata": {},
   "outputs": [
    {
     "name": "stdout",
     "output_type": "stream",
     "text": [
      "<class 'pandas.core.frame.DataFrame'>\n",
      "RangeIndex: 299 entries, 0 to 298\n",
      "Data columns (total 5 columns):\n",
      " #   Column            Non-Null Count  Dtype  \n",
      "---  ------            --------------  -----  \n",
      " 0   id                299 non-null    int64  \n",
      " 1   team_api_id       299 non-null    int64  \n",
      " 2   team_fifa_api_id  288 non-null    float64\n",
      " 3   team_long_name    299 non-null    object \n",
      " 4   team_short_name   299 non-null    object \n",
      "dtypes: float64(1), int64(2), object(2)\n",
      "memory usage: 11.8+ KB\n"
     ]
    }
   ],
   "source": [
    "#information on the team dataframe\n",
    "team_df.info()"
   ]
  },
  {
   "cell_type": "markdown",
   "metadata": {},
   "source": [
    "Observation on **team_df**:\n",
    "- The **team_df** has **299 rows** and **5 columns**. \n",
    "- All dtype of the columns in this dataframe are appropriate so we would not have to update any. Only the **team_fifa_api_id** has missen values(11)\n",
    "\n",
    "In order to avoid redundancy, we could get rid of **team_fifa_api_id** because we already have **team_api_id** which is cleaner and available to be used as foreign key for any merge. "
   ]
  },
  {
   "cell_type": "markdown",
   "metadata": {},
   "source": [
    "> iii) **league_df** properties "
   ]
  },
  {
   "cell_type": "code",
   "execution_count": 12,
   "metadata": {},
   "outputs": [
    {
     "data": {
      "text/plain": [
       "(11, 3)"
      ]
     },
     "execution_count": 12,
     "metadata": {},
     "output_type": "execute_result"
    }
   ],
   "source": [
    "#number of rows and columns in the league dataframe\n",
    "league_df.shape"
   ]
  },
  {
   "cell_type": "code",
   "execution_count": 13,
   "metadata": {},
   "outputs": [
    {
     "name": "stdout",
     "output_type": "stream",
     "text": [
      "<class 'pandas.core.frame.DataFrame'>\n",
      "RangeIndex: 11 entries, 0 to 10\n",
      "Data columns (total 3 columns):\n",
      " #   Column      Non-Null Count  Dtype \n",
      "---  ------      --------------  ----- \n",
      " 0   id          11 non-null     int64 \n",
      " 1   country_id  11 non-null     int64 \n",
      " 2   name        11 non-null     object\n",
      "dtypes: int64(2), object(1)\n",
      "memory usage: 392.0+ bytes\n"
     ]
    }
   ],
   "source": [
    "#information on the league dataframe\n",
    "league_df.info()"
   ]
  },
  {
   "cell_type": "markdown",
   "metadata": {},
   "source": [
    "There are no missen values in this dataframe. Also, it has just 3 columns and 11 rows so we can view it entirely."
   ]
  },
  {
   "cell_type": "code",
   "execution_count": 14,
   "metadata": {},
   "outputs": [
    {
     "data": {
      "text/html": [
       "<div>\n",
       "<style scoped>\n",
       "    .dataframe tbody tr th:only-of-type {\n",
       "        vertical-align: middle;\n",
       "    }\n",
       "\n",
       "    .dataframe tbody tr th {\n",
       "        vertical-align: top;\n",
       "    }\n",
       "\n",
       "    .dataframe thead th {\n",
       "        text-align: right;\n",
       "    }\n",
       "</style>\n",
       "<table border=\"1\" class=\"dataframe\">\n",
       "  <thead>\n",
       "    <tr style=\"text-align: right;\">\n",
       "      <th></th>\n",
       "      <th>id</th>\n",
       "      <th>country_id</th>\n",
       "      <th>name</th>\n",
       "    </tr>\n",
       "  </thead>\n",
       "  <tbody>\n",
       "    <tr>\n",
       "      <th>0</th>\n",
       "      <td>1</td>\n",
       "      <td>1</td>\n",
       "      <td>Belgium Jupiler League</td>\n",
       "    </tr>\n",
       "    <tr>\n",
       "      <th>1</th>\n",
       "      <td>1729</td>\n",
       "      <td>1729</td>\n",
       "      <td>England Premier League</td>\n",
       "    </tr>\n",
       "    <tr>\n",
       "      <th>2</th>\n",
       "      <td>4769</td>\n",
       "      <td>4769</td>\n",
       "      <td>France Ligue 1</td>\n",
       "    </tr>\n",
       "    <tr>\n",
       "      <th>3</th>\n",
       "      <td>7809</td>\n",
       "      <td>7809</td>\n",
       "      <td>Germany 1. Bundesliga</td>\n",
       "    </tr>\n",
       "    <tr>\n",
       "      <th>4</th>\n",
       "      <td>10257</td>\n",
       "      <td>10257</td>\n",
       "      <td>Italy Serie A</td>\n",
       "    </tr>\n",
       "    <tr>\n",
       "      <th>5</th>\n",
       "      <td>13274</td>\n",
       "      <td>13274</td>\n",
       "      <td>Netherlands Eredivisie</td>\n",
       "    </tr>\n",
       "    <tr>\n",
       "      <th>6</th>\n",
       "      <td>15722</td>\n",
       "      <td>15722</td>\n",
       "      <td>Poland Ekstraklasa</td>\n",
       "    </tr>\n",
       "    <tr>\n",
       "      <th>7</th>\n",
       "      <td>17642</td>\n",
       "      <td>17642</td>\n",
       "      <td>Portugal Liga ZON Sagres</td>\n",
       "    </tr>\n",
       "    <tr>\n",
       "      <th>8</th>\n",
       "      <td>19694</td>\n",
       "      <td>19694</td>\n",
       "      <td>Scotland Premier League</td>\n",
       "    </tr>\n",
       "    <tr>\n",
       "      <th>9</th>\n",
       "      <td>21518</td>\n",
       "      <td>21518</td>\n",
       "      <td>Spain LIGA BBVA</td>\n",
       "    </tr>\n",
       "    <tr>\n",
       "      <th>10</th>\n",
       "      <td>24558</td>\n",
       "      <td>24558</td>\n",
       "      <td>Switzerland Super League</td>\n",
       "    </tr>\n",
       "  </tbody>\n",
       "</table>\n",
       "</div>"
      ],
      "text/plain": [
       "       id  country_id                      name\n",
       "0       1           1    Belgium Jupiler League\n",
       "1    1729        1729    England Premier League\n",
       "2    4769        4769            France Ligue 1\n",
       "3    7809        7809     Germany 1. Bundesliga\n",
       "4   10257       10257             Italy Serie A\n",
       "5   13274       13274    Netherlands Eredivisie\n",
       "6   15722       15722        Poland Ekstraklasa\n",
       "7   17642       17642  Portugal Liga ZON Sagres\n",
       "8   19694       19694   Scotland Premier League\n",
       "9   21518       21518           Spain LIGA BBVA\n",
       "10  24558       24558  Switzerland Super League"
      ]
     },
     "execution_count": 14,
     "metadata": {},
     "output_type": "execute_result"
    }
   ],
   "source": [
    "#display the enire league dataframe\n",
    "league_df"
   ]
  },
  {
   "cell_type": "markdown",
   "metadata": {},
   "source": [
    "> Now that we have seen the properties of our dataset, let us move forward with cleaning and treating it such that it can be suitable for the Exploratory Data Analysis(**EDA**). "
   ]
  },
  {
   "cell_type": "markdown",
   "metadata": {},
   "source": [
    "<a id='cleaning'></a>\n",
    "### Data Preparation (Data cleaning + Feature engineering)\n",
    "> 🗣️ **Here we will focus on cleaning our data - getting rid of some nuances noticed [previously](#gp). In addition to just the cleaning, where needed; we will perform some data preparation techniques like feature engineering and merging of the dataframe(s) in a way that will facilitate our [_EDA_](#eda)** "
   ]
  },
  {
   "cell_type": "markdown",
   "metadata": {},
   "source": [
    "Let us start by treating our individual dataframes. \n",
    "\n",
    "📌 _Here we will create new dataframes so in case we are updating our analysis,we can perform operations without affecting the original dataframes_"
   ]
  },
  {
   "cell_type": "markdown",
   "metadata": {},
   "source": [
    "> ◦ **match_df**"
   ]
  },
  {
   "cell_type": "markdown",
   "metadata": {},
   "source": [
    "🗣️ As stated when looking at properties of this dataframe, moving forward - we will only be keeping those that will be necessary in the rest of our analysis. These columns include: \n",
    "- _**season**_ : The season in which a given match was played. \n",
    "- _**league_id**_: The identifier for the the league(competition) for which the match was played \n",
    "- _**date**_: The date the match was played. \n",
    "- _**match_api_id**_:The identifier for the match.\n",
    "- _**home_team_api_id**_: The identifier of home team in that match.\n",
    "- _**away_team_api_id**_: The identifier of away team in that match.\n",
    "- _**home_team_goal**_: The number of goals the home team scored that match\n",
    "- _**away_team_goal**_: The number of goals the away team scored that match"
   ]
  },
  {
   "cell_type": "code",
   "execution_count": 15,
   "metadata": {},
   "outputs": [],
   "source": [
    "# Create new dataframe for match data keeping only necessary columns\n",
    "match_df_new = match_df[['season','league_id', 'date', 'match_api_id', 'home_team_api_id', 'away_team_api_id', 'home_team_goal', 'away_team_goal']].copy()"
   ]
  },
  {
   "cell_type": "code",
   "execution_count": 16,
   "metadata": {},
   "outputs": [
    {
     "name": "stdout",
     "output_type": "stream",
     "text": [
      "<class 'pandas.core.frame.DataFrame'>\n",
      "RangeIndex: 25979 entries, 0 to 25978\n",
      "Data columns (total 8 columns):\n",
      " #   Column            Non-Null Count  Dtype \n",
      "---  ------            --------------  ----- \n",
      " 0   season            25979 non-null  object\n",
      " 1   league_id         25979 non-null  int64 \n",
      " 2   date              25979 non-null  object\n",
      " 3   match_api_id      25979 non-null  int64 \n",
      " 4   home_team_api_id  25979 non-null  int64 \n",
      " 5   away_team_api_id  25979 non-null  int64 \n",
      " 6   home_team_goal    25979 non-null  int64 \n",
      " 7   away_team_goal    25979 non-null  int64 \n",
      "dtypes: int64(6), object(2)\n",
      "memory usage: 1.6+ MB\n"
     ]
    }
   ],
   "source": [
    "#Get information about the match dataframe\n",
    "match_df_new.info()"
   ]
  },
  {
   "cell_type": "markdown",
   "metadata": {},
   "source": [
    "From the above information on our new match dataframe, we will notice that there happens to be no missen value in it. Also, all columns have a appropriate _dtype_ to the exception of _**date**_ which will need to be changed to _datetime dtype_   "
   ]
  },
  {
   "cell_type": "code",
   "execution_count": 17,
   "metadata": {},
   "outputs": [],
   "source": [
    "#change dtype of date to a \"datetime\"\n",
    "match_df_new['date'] = pd.to_datetime(match_df_new['date'])"
   ]
  },
  {
   "cell_type": "code",
   "execution_count": 18,
   "metadata": {},
   "outputs": [
    {
     "data": {
      "text/html": [
       "<div>\n",
       "<style scoped>\n",
       "    .dataframe tbody tr th:only-of-type {\n",
       "        vertical-align: middle;\n",
       "    }\n",
       "\n",
       "    .dataframe tbody tr th {\n",
       "        vertical-align: top;\n",
       "    }\n",
       "\n",
       "    .dataframe thead th {\n",
       "        text-align: right;\n",
       "    }\n",
       "</style>\n",
       "<table border=\"1\" class=\"dataframe\">\n",
       "  <thead>\n",
       "    <tr style=\"text-align: right;\">\n",
       "      <th></th>\n",
       "      <th>season</th>\n",
       "      <th>league_id</th>\n",
       "      <th>date</th>\n",
       "      <th>match_api_id</th>\n",
       "      <th>home_team_api_id</th>\n",
       "      <th>away_team_api_id</th>\n",
       "      <th>home_team_goal</th>\n",
       "      <th>away_team_goal</th>\n",
       "    </tr>\n",
       "  </thead>\n",
       "  <tbody>\n",
       "    <tr>\n",
       "      <th>0</th>\n",
       "      <td>2008/2009</td>\n",
       "      <td>1</td>\n",
       "      <td>2008-08-17</td>\n",
       "      <td>492473</td>\n",
       "      <td>9987</td>\n",
       "      <td>9993</td>\n",
       "      <td>1</td>\n",
       "      <td>1</td>\n",
       "    </tr>\n",
       "    <tr>\n",
       "      <th>1</th>\n",
       "      <td>2008/2009</td>\n",
       "      <td>1</td>\n",
       "      <td>2008-08-16</td>\n",
       "      <td>492474</td>\n",
       "      <td>10000</td>\n",
       "      <td>9994</td>\n",
       "      <td>0</td>\n",
       "      <td>0</td>\n",
       "    </tr>\n",
       "    <tr>\n",
       "      <th>2</th>\n",
       "      <td>2008/2009</td>\n",
       "      <td>1</td>\n",
       "      <td>2008-08-16</td>\n",
       "      <td>492475</td>\n",
       "      <td>9984</td>\n",
       "      <td>8635</td>\n",
       "      <td>0</td>\n",
       "      <td>3</td>\n",
       "    </tr>\n",
       "    <tr>\n",
       "      <th>3</th>\n",
       "      <td>2008/2009</td>\n",
       "      <td>1</td>\n",
       "      <td>2008-08-17</td>\n",
       "      <td>492476</td>\n",
       "      <td>9991</td>\n",
       "      <td>9998</td>\n",
       "      <td>5</td>\n",
       "      <td>0</td>\n",
       "    </tr>\n",
       "    <tr>\n",
       "      <th>4</th>\n",
       "      <td>2008/2009</td>\n",
       "      <td>1</td>\n",
       "      <td>2008-08-16</td>\n",
       "      <td>492477</td>\n",
       "      <td>7947</td>\n",
       "      <td>9985</td>\n",
       "      <td>1</td>\n",
       "      <td>3</td>\n",
       "    </tr>\n",
       "  </tbody>\n",
       "</table>\n",
       "</div>"
      ],
      "text/plain": [
       "      season  league_id       date  match_api_id  home_team_api_id  \\\n",
       "0  2008/2009          1 2008-08-17        492473              9987   \n",
       "1  2008/2009          1 2008-08-16        492474             10000   \n",
       "2  2008/2009          1 2008-08-16        492475              9984   \n",
       "3  2008/2009          1 2008-08-17        492476              9991   \n",
       "4  2008/2009          1 2008-08-16        492477              7947   \n",
       "\n",
       "   away_team_api_id  home_team_goal  away_team_goal  \n",
       "0              9993               1               1  \n",
       "1              9994               0               0  \n",
       "2              8635               0               3  \n",
       "3              9998               5               0  \n",
       "4              9985               1               3  "
      ]
     },
     "execution_count": 18,
     "metadata": {},
     "output_type": "execute_result"
    }
   ],
   "source": [
    "#view first five rows\n",
    "match_df_new.head()"
   ]
  },
  {
   "cell_type": "code",
   "execution_count": 19,
   "metadata": {},
   "outputs": [
    {
     "name": "stdout",
     "output_type": "stream",
     "text": [
      "<class 'pandas.core.frame.DataFrame'>\n",
      "RangeIndex: 25979 entries, 0 to 25978\n",
      "Data columns (total 8 columns):\n",
      " #   Column            Non-Null Count  Dtype         \n",
      "---  ------            --------------  -----         \n",
      " 0   season            25979 non-null  object        \n",
      " 1   league_id         25979 non-null  int64         \n",
      " 2   date              25979 non-null  datetime64[ns]\n",
      " 3   match_api_id      25979 non-null  int64         \n",
      " 4   home_team_api_id  25979 non-null  int64         \n",
      " 5   away_team_api_id  25979 non-null  int64         \n",
      " 6   home_team_goal    25979 non-null  int64         \n",
      " 7   away_team_goal    25979 non-null  int64         \n",
      "dtypes: datetime64[ns](1), int64(6), object(1)\n",
      "memory usage: 1.6+ MB\n"
     ]
    }
   ],
   "source": [
    "#check information\n",
    "match_df_new.info()"
   ]
  },
  {
   "cell_type": "code",
   "execution_count": 20,
   "metadata": {},
   "outputs": [
    {
     "data": {
      "text/plain": [
       "0"
      ]
     },
     "execution_count": 20,
     "metadata": {},
     "output_type": "execute_result"
    }
   ],
   "source": [
    "#check the number of duplicate rows\n",
    "match_df_new.duplicated().sum()"
   ]
  },
  {
   "cell_type": "markdown",
   "metadata": {},
   "source": [
    "Our new match data(_**match_df_new**_) has all columns in a correct dtype and we can see that no duplicate columns or missen value exists.  \n",
    "\n",
    "Now using some of the above selected features, we will also engineer(create) new ones that will help us answer some of our [research questions](#questions). Some useful features we will be creating are:\n",
    "- _**match_outcome**_: It has 3 categories which are:    \n",
    "    - \"**home_win**\" if the match was won by the home team,    \n",
    "    - \"**away_win**\" if the match was won by the away team,   \n",
    "    - \"**draw**\" if the match ended up in a tie(draw) between both teams\n",
    "- _**home_team_point**_:  The value here will be:\n",
    "    - **3** if the home team won the match ,\n",
    "    - **1** if the home team drew the match\n",
    "    - **0** if the home team lost the match\n",
    "- _**away_team_point**_: The value here will be:\n",
    "    - **3** if the away team won the match ,\n",
    "    - **1** if the away team drew the match\n",
    "    - **0** if the away team lost the match"
   ]
  },
  {
   "cell_type": "code",
   "execution_count": 21,
   "metadata": {},
   "outputs": [],
   "source": [
    "#Create a fuction returns the match outcome\n",
    "def assign_MatchOutcome(home_team_goal, away_team_goal):\n",
    "    if home_team_goal > away_team_goal:\n",
    "        return 'home_win'\n",
    "    if home_team_goal == away_team_goal:\n",
    "        return 'draw'\n",
    "    if home_team_goal < away_team_goal:\n",
    "        return 'away_win'\n",
    "    \n",
    "#Create a fuction returns the home team's point    \n",
    "def assign_HomeTeamPoint(match_outcome):\n",
    "    if match_outcome == 'home_win':\n",
    "        return 3\n",
    "    if match_outcome == 'draw':\n",
    "        return 1\n",
    "    if match_outcome == 'away_win':\n",
    "        return 0\n",
    "#Create a fuction returns the away team's point    \n",
    "def assign_AwayTeamPoint(match_outcome):\n",
    "    if match_outcome == 'home_win':\n",
    "        return 0\n",
    "    if match_outcome == 'draw':\n",
    "        return 1\n",
    "    if match_outcome == 'away_win':\n",
    "        return 3    "
   ]
  },
  {
   "cell_type": "code",
   "execution_count": 22,
   "metadata": {},
   "outputs": [],
   "source": [
    "# Create the match_outcome, home_team_point and away_team_point columns and assign their corresponding value\n",
    "match_df_new[\"match_outcome\"] = match_df_new.apply(lambda row: assign_MatchOutcome(row[\"home_team_goal\"],row[\"away_team_goal\"]), axis = 1)\n",
    "match_df_new[\"home_team_point\"] = match_df_new.apply(lambda row: assign_HomeTeamPoint(row[\"match_outcome\"]), axis = 1)\n",
    "match_df_new[\"away_team_point\"] = match_df_new.apply(lambda row: assign_AwayTeamPoint(row[\"match_outcome\"]), axis = 1)"
   ]
  },
  {
   "cell_type": "code",
   "execution_count": 23,
   "metadata": {},
   "outputs": [
    {
     "data": {
      "text/html": [
       "<div>\n",
       "<style scoped>\n",
       "    .dataframe tbody tr th:only-of-type {\n",
       "        vertical-align: middle;\n",
       "    }\n",
       "\n",
       "    .dataframe tbody tr th {\n",
       "        vertical-align: top;\n",
       "    }\n",
       "\n",
       "    .dataframe thead th {\n",
       "        text-align: right;\n",
       "    }\n",
       "</style>\n",
       "<table border=\"1\" class=\"dataframe\">\n",
       "  <thead>\n",
       "    <tr style=\"text-align: right;\">\n",
       "      <th></th>\n",
       "      <th>season</th>\n",
       "      <th>league_id</th>\n",
       "      <th>date</th>\n",
       "      <th>match_api_id</th>\n",
       "      <th>home_team_api_id</th>\n",
       "      <th>away_team_api_id</th>\n",
       "      <th>home_team_goal</th>\n",
       "      <th>away_team_goal</th>\n",
       "      <th>match_outcome</th>\n",
       "      <th>home_team_point</th>\n",
       "      <th>away_team_point</th>\n",
       "    </tr>\n",
       "  </thead>\n",
       "  <tbody>\n",
       "    <tr>\n",
       "      <th>0</th>\n",
       "      <td>2008/2009</td>\n",
       "      <td>1</td>\n",
       "      <td>2008-08-17</td>\n",
       "      <td>492473</td>\n",
       "      <td>9987</td>\n",
       "      <td>9993</td>\n",
       "      <td>1</td>\n",
       "      <td>1</td>\n",
       "      <td>draw</td>\n",
       "      <td>1</td>\n",
       "      <td>1</td>\n",
       "    </tr>\n",
       "    <tr>\n",
       "      <th>1</th>\n",
       "      <td>2008/2009</td>\n",
       "      <td>1</td>\n",
       "      <td>2008-08-16</td>\n",
       "      <td>492474</td>\n",
       "      <td>10000</td>\n",
       "      <td>9994</td>\n",
       "      <td>0</td>\n",
       "      <td>0</td>\n",
       "      <td>draw</td>\n",
       "      <td>1</td>\n",
       "      <td>1</td>\n",
       "    </tr>\n",
       "    <tr>\n",
       "      <th>2</th>\n",
       "      <td>2008/2009</td>\n",
       "      <td>1</td>\n",
       "      <td>2008-08-16</td>\n",
       "      <td>492475</td>\n",
       "      <td>9984</td>\n",
       "      <td>8635</td>\n",
       "      <td>0</td>\n",
       "      <td>3</td>\n",
       "      <td>away_win</td>\n",
       "      <td>0</td>\n",
       "      <td>3</td>\n",
       "    </tr>\n",
       "    <tr>\n",
       "      <th>3</th>\n",
       "      <td>2008/2009</td>\n",
       "      <td>1</td>\n",
       "      <td>2008-08-17</td>\n",
       "      <td>492476</td>\n",
       "      <td>9991</td>\n",
       "      <td>9998</td>\n",
       "      <td>5</td>\n",
       "      <td>0</td>\n",
       "      <td>home_win</td>\n",
       "      <td>3</td>\n",
       "      <td>0</td>\n",
       "    </tr>\n",
       "    <tr>\n",
       "      <th>4</th>\n",
       "      <td>2008/2009</td>\n",
       "      <td>1</td>\n",
       "      <td>2008-08-16</td>\n",
       "      <td>492477</td>\n",
       "      <td>7947</td>\n",
       "      <td>9985</td>\n",
       "      <td>1</td>\n",
       "      <td>3</td>\n",
       "      <td>away_win</td>\n",
       "      <td>0</td>\n",
       "      <td>3</td>\n",
       "    </tr>\n",
       "  </tbody>\n",
       "</table>\n",
       "</div>"
      ],
      "text/plain": [
       "      season  league_id       date  match_api_id  home_team_api_id  \\\n",
       "0  2008/2009          1 2008-08-17        492473              9987   \n",
       "1  2008/2009          1 2008-08-16        492474             10000   \n",
       "2  2008/2009          1 2008-08-16        492475              9984   \n",
       "3  2008/2009          1 2008-08-17        492476              9991   \n",
       "4  2008/2009          1 2008-08-16        492477              7947   \n",
       "\n",
       "   away_team_api_id  home_team_goal  away_team_goal match_outcome  \\\n",
       "0              9993               1               1          draw   \n",
       "1              9994               0               0          draw   \n",
       "2              8635               0               3      away_win   \n",
       "3              9998               5               0      home_win   \n",
       "4              9985               1               3      away_win   \n",
       "\n",
       "   home_team_point  away_team_point  \n",
       "0                1                1  \n",
       "1                1                1  \n",
       "2                0                3  \n",
       "3                3                0  \n",
       "4                0                3  "
      ]
     },
     "execution_count": 23,
     "metadata": {},
     "output_type": "execute_result"
    }
   ],
   "source": [
    "# view the first 5 rows\n",
    "match_df_new.head()"
   ]
  },
  {
   "cell_type": "code",
   "execution_count": 24,
   "metadata": {},
   "outputs": [
    {
     "name": "stdout",
     "output_type": "stream",
     "text": [
      "<class 'pandas.core.frame.DataFrame'>\n",
      "RangeIndex: 25979 entries, 0 to 25978\n",
      "Data columns (total 11 columns):\n",
      " #   Column            Non-Null Count  Dtype         \n",
      "---  ------            --------------  -----         \n",
      " 0   season            25979 non-null  object        \n",
      " 1   league_id         25979 non-null  int64         \n",
      " 2   date              25979 non-null  datetime64[ns]\n",
      " 3   match_api_id      25979 non-null  int64         \n",
      " 4   home_team_api_id  25979 non-null  int64         \n",
      " 5   away_team_api_id  25979 non-null  int64         \n",
      " 6   home_team_goal    25979 non-null  int64         \n",
      " 7   away_team_goal    25979 non-null  int64         \n",
      " 8   match_outcome     25979 non-null  object        \n",
      " 9   home_team_point   25979 non-null  int64         \n",
      " 10  away_team_point   25979 non-null  int64         \n",
      "dtypes: datetime64[ns](1), int64(8), object(2)\n",
      "memory usage: 2.2+ MB\n"
     ]
    }
   ],
   "source": [
    "# check information to ensure there are no missen values and dtypes are appropriate\n",
    "match_df_new.info()"
   ]
  },
  {
   "cell_type": "markdown",
   "metadata": {},
   "source": [
    "The new match dataframe has been created, cleaned and all new features added."
   ]
  },
  {
   "cell_type": "markdown",
   "metadata": {},
   "source": [
    "> Next up we will be looking at the **team_df**"
   ]
  },
  {
   "cell_type": "markdown",
   "metadata": {},
   "source": [
    "The _**team_fifa_api_id**_ is the only column in this dataframe that has missen values. We will be dropping it since we already have **team_api_id** that will be used as foreign key when merging with another dataframe. Also, the _**id**_ dispensable, so we will get rid of it."
   ]
  },
  {
   "cell_type": "code",
   "execution_count": 25,
   "metadata": {},
   "outputs": [],
   "source": [
    "#Drop the dispensable columns \n",
    "team_df.drop(['team_fifa_api_id', 'id'], axis=1, inplace=True)"
   ]
  },
  {
   "cell_type": "code",
   "execution_count": 26,
   "metadata": {},
   "outputs": [
    {
     "name": "stdout",
     "output_type": "stream",
     "text": [
      "<class 'pandas.core.frame.DataFrame'>\n",
      "RangeIndex: 299 entries, 0 to 298\n",
      "Data columns (total 3 columns):\n",
      " #   Column           Non-Null Count  Dtype \n",
      "---  ------           --------------  ----- \n",
      " 0   team_api_id      299 non-null    int64 \n",
      " 1   team_long_name   299 non-null    object\n",
      " 2   team_short_name  299 non-null    object\n",
      "dtypes: int64(1), object(2)\n",
      "memory usage: 7.1+ KB\n"
     ]
    }
   ],
   "source": [
    "# check information\n",
    "team_df.info()"
   ]
  },
  {
   "cell_type": "code",
   "execution_count": 27,
   "metadata": {},
   "outputs": [
    {
     "data": {
      "text/html": [
       "<div>\n",
       "<style scoped>\n",
       "    .dataframe tbody tr th:only-of-type {\n",
       "        vertical-align: middle;\n",
       "    }\n",
       "\n",
       "    .dataframe tbody tr th {\n",
       "        vertical-align: top;\n",
       "    }\n",
       "\n",
       "    .dataframe thead th {\n",
       "        text-align: right;\n",
       "    }\n",
       "</style>\n",
       "<table border=\"1\" class=\"dataframe\">\n",
       "  <thead>\n",
       "    <tr style=\"text-align: right;\">\n",
       "      <th></th>\n",
       "      <th>team_api_id</th>\n",
       "      <th>team_long_name</th>\n",
       "      <th>team_short_name</th>\n",
       "    </tr>\n",
       "  </thead>\n",
       "  <tbody>\n",
       "    <tr>\n",
       "      <th>0</th>\n",
       "      <td>9987</td>\n",
       "      <td>KRC Genk</td>\n",
       "      <td>GEN</td>\n",
       "    </tr>\n",
       "    <tr>\n",
       "      <th>1</th>\n",
       "      <td>9993</td>\n",
       "      <td>Beerschot AC</td>\n",
       "      <td>BAC</td>\n",
       "    </tr>\n",
       "    <tr>\n",
       "      <th>2</th>\n",
       "      <td>10000</td>\n",
       "      <td>SV Zulte-Waregem</td>\n",
       "      <td>ZUL</td>\n",
       "    </tr>\n",
       "    <tr>\n",
       "      <th>3</th>\n",
       "      <td>9994</td>\n",
       "      <td>Sporting Lokeren</td>\n",
       "      <td>LOK</td>\n",
       "    </tr>\n",
       "    <tr>\n",
       "      <th>4</th>\n",
       "      <td>9984</td>\n",
       "      <td>KSV Cercle Brugge</td>\n",
       "      <td>CEB</td>\n",
       "    </tr>\n",
       "  </tbody>\n",
       "</table>\n",
       "</div>"
      ],
      "text/plain": [
       "   team_api_id     team_long_name team_short_name\n",
       "0         9987           KRC Genk             GEN\n",
       "1         9993       Beerschot AC             BAC\n",
       "2        10000   SV Zulte-Waregem             ZUL\n",
       "3         9994   Sporting Lokeren             LOK\n",
       "4         9984  KSV Cercle Brugge             CEB"
      ]
     },
     "execution_count": 27,
     "metadata": {},
     "output_type": "execute_result"
    }
   ],
   "source": [
    "#display first five columns\n",
    "team_df.head()"
   ]
  },
  {
   "cell_type": "markdown",
   "metadata": {},
   "source": [
    "The **team_df** has no missen is proper. We kept the **team_short_name** because it would be useful to use as tick label when plotting data on teams"
   ]
  },
  {
   "cell_type": "markdown",
   "metadata": {},
   "source": [
    "> For the **league_df**, we will have to:\n",
    ">  - rename the **id** column to **league_id** so that it can be easily identifiable in merges.  \n",
    ">  - discard the **country_id** because it is non-essential for the rest of our analysis."
   ]
  },
  {
   "cell_type": "code",
   "execution_count": 28,
   "metadata": {},
   "outputs": [
    {
     "data": {
      "text/html": [
       "<div>\n",
       "<style scoped>\n",
       "    .dataframe tbody tr th:only-of-type {\n",
       "        vertical-align: middle;\n",
       "    }\n",
       "\n",
       "    .dataframe tbody tr th {\n",
       "        vertical-align: top;\n",
       "    }\n",
       "\n",
       "    .dataframe thead th {\n",
       "        text-align: right;\n",
       "    }\n",
       "</style>\n",
       "<table border=\"1\" class=\"dataframe\">\n",
       "  <thead>\n",
       "    <tr style=\"text-align: right;\">\n",
       "      <th></th>\n",
       "      <th>league_id</th>\n",
       "      <th>name</th>\n",
       "    </tr>\n",
       "  </thead>\n",
       "  <tbody>\n",
       "    <tr>\n",
       "      <th>0</th>\n",
       "      <td>1</td>\n",
       "      <td>Belgium Jupiler League</td>\n",
       "    </tr>\n",
       "    <tr>\n",
       "      <th>1</th>\n",
       "      <td>1729</td>\n",
       "      <td>England Premier League</td>\n",
       "    </tr>\n",
       "    <tr>\n",
       "      <th>2</th>\n",
       "      <td>4769</td>\n",
       "      <td>France Ligue 1</td>\n",
       "    </tr>\n",
       "    <tr>\n",
       "      <th>3</th>\n",
       "      <td>7809</td>\n",
       "      <td>Germany 1. Bundesliga</td>\n",
       "    </tr>\n",
       "    <tr>\n",
       "      <th>4</th>\n",
       "      <td>10257</td>\n",
       "      <td>Italy Serie A</td>\n",
       "    </tr>\n",
       "    <tr>\n",
       "      <th>5</th>\n",
       "      <td>13274</td>\n",
       "      <td>Netherlands Eredivisie</td>\n",
       "    </tr>\n",
       "    <tr>\n",
       "      <th>6</th>\n",
       "      <td>15722</td>\n",
       "      <td>Poland Ekstraklasa</td>\n",
       "    </tr>\n",
       "    <tr>\n",
       "      <th>7</th>\n",
       "      <td>17642</td>\n",
       "      <td>Portugal Liga ZON Sagres</td>\n",
       "    </tr>\n",
       "    <tr>\n",
       "      <th>8</th>\n",
       "      <td>19694</td>\n",
       "      <td>Scotland Premier League</td>\n",
       "    </tr>\n",
       "    <tr>\n",
       "      <th>9</th>\n",
       "      <td>21518</td>\n",
       "      <td>Spain LIGA BBVA</td>\n",
       "    </tr>\n",
       "    <tr>\n",
       "      <th>10</th>\n",
       "      <td>24558</td>\n",
       "      <td>Switzerland Super League</td>\n",
       "    </tr>\n",
       "  </tbody>\n",
       "</table>\n",
       "</div>"
      ],
      "text/plain": [
       "    league_id                      name\n",
       "0           1    Belgium Jupiler League\n",
       "1        1729    England Premier League\n",
       "2        4769            France Ligue 1\n",
       "3        7809     Germany 1. Bundesliga\n",
       "4       10257             Italy Serie A\n",
       "5       13274    Netherlands Eredivisie\n",
       "6       15722        Poland Ekstraklasa\n",
       "7       17642  Portugal Liga ZON Sagres\n",
       "8       19694   Scotland Premier League\n",
       "9       21518           Spain LIGA BBVA\n",
       "10      24558  Switzerland Super League"
      ]
     },
     "execution_count": 28,
     "metadata": {},
     "output_type": "execute_result"
    }
   ],
   "source": [
    "league_df.rename(columns = {'id':'league_id'}, inplace = True)\n",
    "league_df.drop(['country_id'], axis=1, inplace=True)\n",
    "league_df"
   ]
  },
  {
   "cell_type": "markdown",
   "metadata": {},
   "source": [
    "Now that we have treated all our relevant dataframes( **match_df_new, team_df & league_df**), we can move forward with merging them such as it would be easier to perform our EDA."
   ]
  },
  {
   "cell_type": "code",
   "execution_count": 29,
   "metadata": {},
   "outputs": [
    {
     "data": {
      "text/html": [
       "<div>\n",
       "<style scoped>\n",
       "    .dataframe tbody tr th:only-of-type {\n",
       "        vertical-align: middle;\n",
       "    }\n",
       "\n",
       "    .dataframe tbody tr th {\n",
       "        vertical-align: top;\n",
       "    }\n",
       "\n",
       "    .dataframe thead th {\n",
       "        text-align: right;\n",
       "    }\n",
       "</style>\n",
       "<table border=\"1\" class=\"dataframe\">\n",
       "  <thead>\n",
       "    <tr style=\"text-align: right;\">\n",
       "      <th></th>\n",
       "      <th>season</th>\n",
       "      <th>league_id</th>\n",
       "      <th>match_date</th>\n",
       "      <th>match_api_id</th>\n",
       "      <th>home_team_api_id</th>\n",
       "      <th>away_team_api_id</th>\n",
       "      <th>home_team_goal</th>\n",
       "      <th>away_team_goal</th>\n",
       "      <th>match_outcome</th>\n",
       "      <th>home_team_point</th>\n",
       "      <th>away_team_point</th>\n",
       "      <th>league_name</th>\n",
       "    </tr>\n",
       "  </thead>\n",
       "  <tbody>\n",
       "    <tr>\n",
       "      <th>0</th>\n",
       "      <td>2008/2009</td>\n",
       "      <td>1</td>\n",
       "      <td>2008-08-17</td>\n",
       "      <td>492473</td>\n",
       "      <td>9987</td>\n",
       "      <td>9993</td>\n",
       "      <td>1</td>\n",
       "      <td>1</td>\n",
       "      <td>draw</td>\n",
       "      <td>1</td>\n",
       "      <td>1</td>\n",
       "      <td>Belgium Jupiler League</td>\n",
       "    </tr>\n",
       "    <tr>\n",
       "      <th>1</th>\n",
       "      <td>2008/2009</td>\n",
       "      <td>1</td>\n",
       "      <td>2008-08-16</td>\n",
       "      <td>492474</td>\n",
       "      <td>10000</td>\n",
       "      <td>9994</td>\n",
       "      <td>0</td>\n",
       "      <td>0</td>\n",
       "      <td>draw</td>\n",
       "      <td>1</td>\n",
       "      <td>1</td>\n",
       "      <td>Belgium Jupiler League</td>\n",
       "    </tr>\n",
       "    <tr>\n",
       "      <th>2</th>\n",
       "      <td>2008/2009</td>\n",
       "      <td>1</td>\n",
       "      <td>2008-08-16</td>\n",
       "      <td>492475</td>\n",
       "      <td>9984</td>\n",
       "      <td>8635</td>\n",
       "      <td>0</td>\n",
       "      <td>3</td>\n",
       "      <td>away_win</td>\n",
       "      <td>0</td>\n",
       "      <td>3</td>\n",
       "      <td>Belgium Jupiler League</td>\n",
       "    </tr>\n",
       "    <tr>\n",
       "      <th>3</th>\n",
       "      <td>2008/2009</td>\n",
       "      <td>1</td>\n",
       "      <td>2008-08-17</td>\n",
       "      <td>492476</td>\n",
       "      <td>9991</td>\n",
       "      <td>9998</td>\n",
       "      <td>5</td>\n",
       "      <td>0</td>\n",
       "      <td>home_win</td>\n",
       "      <td>3</td>\n",
       "      <td>0</td>\n",
       "      <td>Belgium Jupiler League</td>\n",
       "    </tr>\n",
       "    <tr>\n",
       "      <th>4</th>\n",
       "      <td>2008/2009</td>\n",
       "      <td>1</td>\n",
       "      <td>2008-08-16</td>\n",
       "      <td>492477</td>\n",
       "      <td>7947</td>\n",
       "      <td>9985</td>\n",
       "      <td>1</td>\n",
       "      <td>3</td>\n",
       "      <td>away_win</td>\n",
       "      <td>0</td>\n",
       "      <td>3</td>\n",
       "      <td>Belgium Jupiler League</td>\n",
       "    </tr>\n",
       "  </tbody>\n",
       "</table>\n",
       "</div>"
      ],
      "text/plain": [
       "      season  league_id match_date  match_api_id  home_team_api_id  \\\n",
       "0  2008/2009          1 2008-08-17        492473              9987   \n",
       "1  2008/2009          1 2008-08-16        492474             10000   \n",
       "2  2008/2009          1 2008-08-16        492475              9984   \n",
       "3  2008/2009          1 2008-08-17        492476              9991   \n",
       "4  2008/2009          1 2008-08-16        492477              7947   \n",
       "\n",
       "   away_team_api_id  home_team_goal  away_team_goal match_outcome  \\\n",
       "0              9993               1               1          draw   \n",
       "1              9994               0               0          draw   \n",
       "2              8635               0               3      away_win   \n",
       "3              9998               5               0      home_win   \n",
       "4              9985               1               3      away_win   \n",
       "\n",
       "   home_team_point  away_team_point             league_name  \n",
       "0                1                1  Belgium Jupiler League  \n",
       "1                1                1  Belgium Jupiler League  \n",
       "2                0                3  Belgium Jupiler League  \n",
       "3                3                0  Belgium Jupiler League  \n",
       "4                0                3  Belgium Jupiler League  "
      ]
     },
     "execution_count": 29,
     "metadata": {},
     "output_type": "execute_result"
    }
   ],
   "source": [
    "#merge the match dataframe with the league dataframe\n",
    "df_combined = match_df_new.merge(league_df, on = 'league_id', how = 'left')\n",
    "# rename name and date for identifiability\n",
    "df_combined.rename(columns={'name': 'league_name', 'date': 'match_date'}, inplace =True)\n",
    "df_combined.head()"
   ]
  },
  {
   "cell_type": "markdown",
   "metadata": {},
   "source": [
    "Now we will merge the (**match + league**) dataframe with the team dataframe such that it includes information of the **team dataframe** such that it includes information on both the home and away team  "
   ]
  },
  {
   "cell_type": "code",
   "execution_count": 30,
   "metadata": {},
   "outputs": [
    {
     "data": {
      "text/html": [
       "<div>\n",
       "<style scoped>\n",
       "    .dataframe tbody tr th:only-of-type {\n",
       "        vertical-align: middle;\n",
       "    }\n",
       "\n",
       "    .dataframe tbody tr th {\n",
       "        vertical-align: top;\n",
       "    }\n",
       "\n",
       "    .dataframe thead th {\n",
       "        text-align: right;\n",
       "    }\n",
       "</style>\n",
       "<table border=\"1\" class=\"dataframe\">\n",
       "  <thead>\n",
       "    <tr style=\"text-align: right;\">\n",
       "      <th></th>\n",
       "      <th>season</th>\n",
       "      <th>league_id</th>\n",
       "      <th>match_date</th>\n",
       "      <th>match_api_id</th>\n",
       "      <th>home_team_api_id</th>\n",
       "      <th>away_team_api_id</th>\n",
       "      <th>home_team_goal</th>\n",
       "      <th>away_team_goal</th>\n",
       "      <th>match_outcome</th>\n",
       "      <th>home_team_point</th>\n",
       "      <th>away_team_point</th>\n",
       "      <th>league_name</th>\n",
       "      <th>home_team_longname</th>\n",
       "      <th>home_team_shortname</th>\n",
       "    </tr>\n",
       "  </thead>\n",
       "  <tbody>\n",
       "    <tr>\n",
       "      <th>0</th>\n",
       "      <td>2008/2009</td>\n",
       "      <td>1</td>\n",
       "      <td>2008-08-17</td>\n",
       "      <td>492473</td>\n",
       "      <td>9987</td>\n",
       "      <td>9993</td>\n",
       "      <td>1</td>\n",
       "      <td>1</td>\n",
       "      <td>draw</td>\n",
       "      <td>1</td>\n",
       "      <td>1</td>\n",
       "      <td>Belgium Jupiler League</td>\n",
       "      <td>KRC Genk</td>\n",
       "      <td>GEN</td>\n",
       "    </tr>\n",
       "    <tr>\n",
       "      <th>1</th>\n",
       "      <td>2008/2009</td>\n",
       "      <td>1</td>\n",
       "      <td>2008-08-16</td>\n",
       "      <td>492474</td>\n",
       "      <td>10000</td>\n",
       "      <td>9994</td>\n",
       "      <td>0</td>\n",
       "      <td>0</td>\n",
       "      <td>draw</td>\n",
       "      <td>1</td>\n",
       "      <td>1</td>\n",
       "      <td>Belgium Jupiler League</td>\n",
       "      <td>SV Zulte-Waregem</td>\n",
       "      <td>ZUL</td>\n",
       "    </tr>\n",
       "    <tr>\n",
       "      <th>2</th>\n",
       "      <td>2008/2009</td>\n",
       "      <td>1</td>\n",
       "      <td>2008-08-16</td>\n",
       "      <td>492475</td>\n",
       "      <td>9984</td>\n",
       "      <td>8635</td>\n",
       "      <td>0</td>\n",
       "      <td>3</td>\n",
       "      <td>away_win</td>\n",
       "      <td>0</td>\n",
       "      <td>3</td>\n",
       "      <td>Belgium Jupiler League</td>\n",
       "      <td>KSV Cercle Brugge</td>\n",
       "      <td>CEB</td>\n",
       "    </tr>\n",
       "    <tr>\n",
       "      <th>3</th>\n",
       "      <td>2008/2009</td>\n",
       "      <td>1</td>\n",
       "      <td>2008-08-17</td>\n",
       "      <td>492476</td>\n",
       "      <td>9991</td>\n",
       "      <td>9998</td>\n",
       "      <td>5</td>\n",
       "      <td>0</td>\n",
       "      <td>home_win</td>\n",
       "      <td>3</td>\n",
       "      <td>0</td>\n",
       "      <td>Belgium Jupiler League</td>\n",
       "      <td>KAA Gent</td>\n",
       "      <td>GEN</td>\n",
       "    </tr>\n",
       "    <tr>\n",
       "      <th>4</th>\n",
       "      <td>2008/2009</td>\n",
       "      <td>1</td>\n",
       "      <td>2008-08-16</td>\n",
       "      <td>492477</td>\n",
       "      <td>7947</td>\n",
       "      <td>9985</td>\n",
       "      <td>1</td>\n",
       "      <td>3</td>\n",
       "      <td>away_win</td>\n",
       "      <td>0</td>\n",
       "      <td>3</td>\n",
       "      <td>Belgium Jupiler League</td>\n",
       "      <td>FCV Dender EH</td>\n",
       "      <td>DEN</td>\n",
       "    </tr>\n",
       "  </tbody>\n",
       "</table>\n",
       "</div>"
      ],
      "text/plain": [
       "      season  league_id match_date  match_api_id  home_team_api_id  \\\n",
       "0  2008/2009          1 2008-08-17        492473              9987   \n",
       "1  2008/2009          1 2008-08-16        492474             10000   \n",
       "2  2008/2009          1 2008-08-16        492475              9984   \n",
       "3  2008/2009          1 2008-08-17        492476              9991   \n",
       "4  2008/2009          1 2008-08-16        492477              7947   \n",
       "\n",
       "   away_team_api_id  home_team_goal  away_team_goal match_outcome  \\\n",
       "0              9993               1               1          draw   \n",
       "1              9994               0               0          draw   \n",
       "2              8635               0               3      away_win   \n",
       "3              9998               5               0      home_win   \n",
       "4              9985               1               3      away_win   \n",
       "\n",
       "   home_team_point  away_team_point             league_name  \\\n",
       "0                1                1  Belgium Jupiler League   \n",
       "1                1                1  Belgium Jupiler League   \n",
       "2                0                3  Belgium Jupiler League   \n",
       "3                3                0  Belgium Jupiler League   \n",
       "4                0                3  Belgium Jupiler League   \n",
       "\n",
       "  home_team_longname home_team_shortname  \n",
       "0           KRC Genk                 GEN  \n",
       "1   SV Zulte-Waregem                 ZUL  \n",
       "2  KSV Cercle Brugge                 CEB  \n",
       "3           KAA Gent                 GEN  \n",
       "4      FCV Dender EH                 DEN  "
      ]
     },
     "execution_count": 30,
     "metadata": {},
     "output_type": "execute_result"
    }
   ],
   "source": [
    "#include information on the home team \n",
    "df_combined = df_combined.merge(team_df, left_on='home_team_api_id', right_on='team_api_id', how='left')\n",
    "\n",
    "#rename long and short names such they reflect the home team \n",
    "df_combined.rename(columns = {'team_long_name':'home_team_longname', 'team_short_name':'home_team_shortname'}, inplace = True)\n",
    "\n",
    "#drop team_api_id from combined dataframe because it is not needed \n",
    "df_combined.drop('team_api_id', axis=1, inplace=True)\n",
    "df_combined.head()"
   ]
  },
  {
   "cell_type": "code",
   "execution_count": 31,
   "metadata": {},
   "outputs": [
    {
     "data": {
      "text/html": [
       "<div>\n",
       "<style scoped>\n",
       "    .dataframe tbody tr th:only-of-type {\n",
       "        vertical-align: middle;\n",
       "    }\n",
       "\n",
       "    .dataframe tbody tr th {\n",
       "        vertical-align: top;\n",
       "    }\n",
       "\n",
       "    .dataframe thead th {\n",
       "        text-align: right;\n",
       "    }\n",
       "</style>\n",
       "<table border=\"1\" class=\"dataframe\">\n",
       "  <thead>\n",
       "    <tr style=\"text-align: right;\">\n",
       "      <th></th>\n",
       "      <th>season</th>\n",
       "      <th>league_id</th>\n",
       "      <th>match_date</th>\n",
       "      <th>match_api_id</th>\n",
       "      <th>home_team_api_id</th>\n",
       "      <th>away_team_api_id</th>\n",
       "      <th>home_team_goal</th>\n",
       "      <th>away_team_goal</th>\n",
       "      <th>match_outcome</th>\n",
       "      <th>home_team_point</th>\n",
       "      <th>away_team_point</th>\n",
       "      <th>league_name</th>\n",
       "      <th>home_team_longname</th>\n",
       "      <th>home_team_shortname</th>\n",
       "      <th>team_api_id</th>\n",
       "      <th>away_team_longname</th>\n",
       "      <th>away_team_shortname</th>\n",
       "    </tr>\n",
       "  </thead>\n",
       "  <tbody>\n",
       "    <tr>\n",
       "      <th>0</th>\n",
       "      <td>2008/2009</td>\n",
       "      <td>1</td>\n",
       "      <td>2008-08-17</td>\n",
       "      <td>492473</td>\n",
       "      <td>9987</td>\n",
       "      <td>9993</td>\n",
       "      <td>1</td>\n",
       "      <td>1</td>\n",
       "      <td>draw</td>\n",
       "      <td>1</td>\n",
       "      <td>1</td>\n",
       "      <td>Belgium Jupiler League</td>\n",
       "      <td>KRC Genk</td>\n",
       "      <td>GEN</td>\n",
       "      <td>9993</td>\n",
       "      <td>Beerschot AC</td>\n",
       "      <td>BAC</td>\n",
       "    </tr>\n",
       "    <tr>\n",
       "      <th>1</th>\n",
       "      <td>2008/2009</td>\n",
       "      <td>1</td>\n",
       "      <td>2008-08-16</td>\n",
       "      <td>492474</td>\n",
       "      <td>10000</td>\n",
       "      <td>9994</td>\n",
       "      <td>0</td>\n",
       "      <td>0</td>\n",
       "      <td>draw</td>\n",
       "      <td>1</td>\n",
       "      <td>1</td>\n",
       "      <td>Belgium Jupiler League</td>\n",
       "      <td>SV Zulte-Waregem</td>\n",
       "      <td>ZUL</td>\n",
       "      <td>9994</td>\n",
       "      <td>Sporting Lokeren</td>\n",
       "      <td>LOK</td>\n",
       "    </tr>\n",
       "    <tr>\n",
       "      <th>2</th>\n",
       "      <td>2008/2009</td>\n",
       "      <td>1</td>\n",
       "      <td>2008-08-16</td>\n",
       "      <td>492475</td>\n",
       "      <td>9984</td>\n",
       "      <td>8635</td>\n",
       "      <td>0</td>\n",
       "      <td>3</td>\n",
       "      <td>away_win</td>\n",
       "      <td>0</td>\n",
       "      <td>3</td>\n",
       "      <td>Belgium Jupiler League</td>\n",
       "      <td>KSV Cercle Brugge</td>\n",
       "      <td>CEB</td>\n",
       "      <td>8635</td>\n",
       "      <td>RSC Anderlecht</td>\n",
       "      <td>AND</td>\n",
       "    </tr>\n",
       "    <tr>\n",
       "      <th>3</th>\n",
       "      <td>2008/2009</td>\n",
       "      <td>1</td>\n",
       "      <td>2008-08-17</td>\n",
       "      <td>492476</td>\n",
       "      <td>9991</td>\n",
       "      <td>9998</td>\n",
       "      <td>5</td>\n",
       "      <td>0</td>\n",
       "      <td>home_win</td>\n",
       "      <td>3</td>\n",
       "      <td>0</td>\n",
       "      <td>Belgium Jupiler League</td>\n",
       "      <td>KAA Gent</td>\n",
       "      <td>GEN</td>\n",
       "      <td>9998</td>\n",
       "      <td>RAEC Mons</td>\n",
       "      <td>MON</td>\n",
       "    </tr>\n",
       "    <tr>\n",
       "      <th>4</th>\n",
       "      <td>2008/2009</td>\n",
       "      <td>1</td>\n",
       "      <td>2008-08-16</td>\n",
       "      <td>492477</td>\n",
       "      <td>7947</td>\n",
       "      <td>9985</td>\n",
       "      <td>1</td>\n",
       "      <td>3</td>\n",
       "      <td>away_win</td>\n",
       "      <td>0</td>\n",
       "      <td>3</td>\n",
       "      <td>Belgium Jupiler League</td>\n",
       "      <td>FCV Dender EH</td>\n",
       "      <td>DEN</td>\n",
       "      <td>9985</td>\n",
       "      <td>Standard de Liège</td>\n",
       "      <td>STL</td>\n",
       "    </tr>\n",
       "  </tbody>\n",
       "</table>\n",
       "</div>"
      ],
      "text/plain": [
       "      season  league_id match_date  match_api_id  home_team_api_id  \\\n",
       "0  2008/2009          1 2008-08-17        492473              9987   \n",
       "1  2008/2009          1 2008-08-16        492474             10000   \n",
       "2  2008/2009          1 2008-08-16        492475              9984   \n",
       "3  2008/2009          1 2008-08-17        492476              9991   \n",
       "4  2008/2009          1 2008-08-16        492477              7947   \n",
       "\n",
       "   away_team_api_id  home_team_goal  away_team_goal match_outcome  \\\n",
       "0              9993               1               1          draw   \n",
       "1              9994               0               0          draw   \n",
       "2              8635               0               3      away_win   \n",
       "3              9998               5               0      home_win   \n",
       "4              9985               1               3      away_win   \n",
       "\n",
       "   home_team_point  away_team_point             league_name  \\\n",
       "0                1                1  Belgium Jupiler League   \n",
       "1                1                1  Belgium Jupiler League   \n",
       "2                0                3  Belgium Jupiler League   \n",
       "3                3                0  Belgium Jupiler League   \n",
       "4                0                3  Belgium Jupiler League   \n",
       "\n",
       "  home_team_longname home_team_shortname  team_api_id away_team_longname  \\\n",
       "0           KRC Genk                 GEN         9993       Beerschot AC   \n",
       "1   SV Zulte-Waregem                 ZUL         9994   Sporting Lokeren   \n",
       "2  KSV Cercle Brugge                 CEB         8635     RSC Anderlecht   \n",
       "3           KAA Gent                 GEN         9998          RAEC Mons   \n",
       "4      FCV Dender EH                 DEN         9985  Standard de Liège   \n",
       "\n",
       "  away_team_shortname  \n",
       "0                 BAC  \n",
       "1                 LOK  \n",
       "2                 AND  \n",
       "3                 MON  \n",
       "4                 STL  "
      ]
     },
     "execution_count": 31,
     "metadata": {},
     "output_type": "execute_result"
    }
   ],
   "source": [
    "#include information on the away team\n",
    "df_combined = df_combined.merge(team_df, left_on='away_team_api_id', right_on='team_api_id', how='left')\n",
    "df_combined.rename(columns = {'team_long_name':'away_team_longname', 'team_short_name':'away_team_shortname'}, inplace = True)\n",
    "df_combined.head()"
   ]
  },
  {
   "cell_type": "code",
   "execution_count": 32,
   "metadata": {},
   "outputs": [
    {
     "name": "stdout",
     "output_type": "stream",
     "text": [
      "0 season\n",
      "1 league_id\n",
      "2 match_date\n",
      "3 match_api_id\n",
      "4 home_team_api_id\n",
      "5 away_team_api_id\n",
      "6 home_team_goal\n",
      "7 away_team_goal\n",
      "8 match_outcome\n",
      "9 home_team_point\n",
      "10 away_team_point\n",
      "11 league_name\n",
      "12 home_team_longname\n",
      "13 home_team_shortname\n",
      "14 team_api_id\n",
      "15 away_team_longname\n",
      "16 away_team_shortname\n"
     ]
    }
   ],
   "source": [
    "# view index each of the columns in our combined dataframe\n",
    "for i, v in enumerate(df_combined.columns):\n",
    "    print(i, v)"
   ]
  },
  {
   "cell_type": "code",
   "execution_count": 33,
   "metadata": {},
   "outputs": [],
   "source": [
    "#drop other unneeded columns using their index\n",
    "df_combined.drop(df_combined.iloc[: ,(np.r_[1, 3:6, 13, 14, 16])] ,axis = 1, inplace =True)"
   ]
  },
  {
   "cell_type": "code",
   "execution_count": 34,
   "metadata": {},
   "outputs": [],
   "source": [
    "# rename columns for both home and away team names\n",
    "df_combined.rename(columns = {'home_team_longname':'home_team_name', 'away_team_longname':'away_team_name'}, inplace = True)"
   ]
  },
  {
   "cell_type": "code",
   "execution_count": 35,
   "metadata": {},
   "outputs": [
    {
     "data": {
      "text/html": [
       "<div>\n",
       "<style scoped>\n",
       "    .dataframe tbody tr th:only-of-type {\n",
       "        vertical-align: middle;\n",
       "    }\n",
       "\n",
       "    .dataframe tbody tr th {\n",
       "        vertical-align: top;\n",
       "    }\n",
       "\n",
       "    .dataframe thead th {\n",
       "        text-align: right;\n",
       "    }\n",
       "</style>\n",
       "<table border=\"1\" class=\"dataframe\">\n",
       "  <thead>\n",
       "    <tr style=\"text-align: right;\">\n",
       "      <th></th>\n",
       "      <th>season</th>\n",
       "      <th>match_date</th>\n",
       "      <th>home_team_goal</th>\n",
       "      <th>away_team_goal</th>\n",
       "      <th>match_outcome</th>\n",
       "      <th>home_team_point</th>\n",
       "      <th>away_team_point</th>\n",
       "      <th>league_name</th>\n",
       "      <th>home_team_name</th>\n",
       "      <th>away_team_name</th>\n",
       "      <th>match_goals</th>\n",
       "    </tr>\n",
       "  </thead>\n",
       "  <tbody>\n",
       "    <tr>\n",
       "      <th>0</th>\n",
       "      <td>2008/2009</td>\n",
       "      <td>2008-08-17</td>\n",
       "      <td>1</td>\n",
       "      <td>1</td>\n",
       "      <td>draw</td>\n",
       "      <td>1</td>\n",
       "      <td>1</td>\n",
       "      <td>Belgium Jupiler League</td>\n",
       "      <td>KRC Genk</td>\n",
       "      <td>Beerschot AC</td>\n",
       "      <td>2</td>\n",
       "    </tr>\n",
       "    <tr>\n",
       "      <th>1</th>\n",
       "      <td>2008/2009</td>\n",
       "      <td>2008-08-16</td>\n",
       "      <td>0</td>\n",
       "      <td>0</td>\n",
       "      <td>draw</td>\n",
       "      <td>1</td>\n",
       "      <td>1</td>\n",
       "      <td>Belgium Jupiler League</td>\n",
       "      <td>SV Zulte-Waregem</td>\n",
       "      <td>Sporting Lokeren</td>\n",
       "      <td>0</td>\n",
       "    </tr>\n",
       "    <tr>\n",
       "      <th>2</th>\n",
       "      <td>2008/2009</td>\n",
       "      <td>2008-08-16</td>\n",
       "      <td>0</td>\n",
       "      <td>3</td>\n",
       "      <td>away_win</td>\n",
       "      <td>0</td>\n",
       "      <td>3</td>\n",
       "      <td>Belgium Jupiler League</td>\n",
       "      <td>KSV Cercle Brugge</td>\n",
       "      <td>RSC Anderlecht</td>\n",
       "      <td>3</td>\n",
       "    </tr>\n",
       "    <tr>\n",
       "      <th>3</th>\n",
       "      <td>2008/2009</td>\n",
       "      <td>2008-08-17</td>\n",
       "      <td>5</td>\n",
       "      <td>0</td>\n",
       "      <td>home_win</td>\n",
       "      <td>3</td>\n",
       "      <td>0</td>\n",
       "      <td>Belgium Jupiler League</td>\n",
       "      <td>KAA Gent</td>\n",
       "      <td>RAEC Mons</td>\n",
       "      <td>5</td>\n",
       "    </tr>\n",
       "    <tr>\n",
       "      <th>4</th>\n",
       "      <td>2008/2009</td>\n",
       "      <td>2008-08-16</td>\n",
       "      <td>1</td>\n",
       "      <td>3</td>\n",
       "      <td>away_win</td>\n",
       "      <td>0</td>\n",
       "      <td>3</td>\n",
       "      <td>Belgium Jupiler League</td>\n",
       "      <td>FCV Dender EH</td>\n",
       "      <td>Standard de Liège</td>\n",
       "      <td>4</td>\n",
       "    </tr>\n",
       "  </tbody>\n",
       "</table>\n",
       "</div>"
      ],
      "text/plain": [
       "      season match_date  home_team_goal  away_team_goal match_outcome  \\\n",
       "0  2008/2009 2008-08-17               1               1          draw   \n",
       "1  2008/2009 2008-08-16               0               0          draw   \n",
       "2  2008/2009 2008-08-16               0               3      away_win   \n",
       "3  2008/2009 2008-08-17               5               0      home_win   \n",
       "4  2008/2009 2008-08-16               1               3      away_win   \n",
       "\n",
       "   home_team_point  away_team_point             league_name  \\\n",
       "0                1                1  Belgium Jupiler League   \n",
       "1                1                1  Belgium Jupiler League   \n",
       "2                0                3  Belgium Jupiler League   \n",
       "3                3                0  Belgium Jupiler League   \n",
       "4                0                3  Belgium Jupiler League   \n",
       "\n",
       "      home_team_name     away_team_name  match_goals  \n",
       "0           KRC Genk       Beerschot AC            2  \n",
       "1   SV Zulte-Waregem   Sporting Lokeren            0  \n",
       "2  KSV Cercle Brugge     RSC Anderlecht            3  \n",
       "3           KAA Gent          RAEC Mons            5  \n",
       "4      FCV Dender EH  Standard de Liège            4  "
      ]
     },
     "execution_count": 35,
     "metadata": {},
     "output_type": "execute_result"
    }
   ],
   "source": [
    "# create new column to store total number of goals scored for each match \n",
    "df_combined[\"match_goals\"] = df_combined[\"home_team_goal\"] + df_combined[\"away_team_goal\"]\n",
    "df_combined.head()"
   ]
  },
  {
   "cell_type": "markdown",
   "metadata": {},
   "source": [
    "Now that our data has been prepared, we now move over to our **EDA** - where we shall be answering the [questions posed](#questions)  "
   ]
  },
  {
   "cell_type": "markdown",
   "metadata": {},
   "source": [
    "<a id='eda'></a>\n",
    "## Exploratory Data Analysis 🕵️📊📈\n"
   ]
  },
  {
   "cell_type": "markdown",
   "metadata": {},
   "source": [
    "### A) Season-specific analysis : 2015/2016 season"
   ]
  },
  {
   "cell_type": "markdown",
   "metadata": {},
   "source": [
    "Here we will start creating a dataframe to store data for the 2016 season only "
   ]
  },
  {
   "cell_type": "code",
   "execution_count": 36,
   "metadata": {},
   "outputs": [],
   "source": [
    "#create a new dataframe that contains data for the 2015/16 season only\n",
    "df_15_16 = df_combined.query('season == \"2015/2016\"').copy()"
   ]
  },
  {
   "cell_type": "code",
   "execution_count": 37,
   "metadata": {},
   "outputs": [
    {
     "name": "stdout",
     "output_type": "stream",
     "text": [
      "<class 'pandas.core.frame.DataFrame'>\n",
      "Int64Index: 3326 entries, 1488 to 25978\n",
      "Data columns (total 11 columns):\n",
      " #   Column           Non-Null Count  Dtype         \n",
      "---  ------           --------------  -----         \n",
      " 0   season           3326 non-null   object        \n",
      " 1   match_date       3326 non-null   datetime64[ns]\n",
      " 2   home_team_goal   3326 non-null   int64         \n",
      " 3   away_team_goal   3326 non-null   int64         \n",
      " 4   match_outcome    3326 non-null   object        \n",
      " 5   home_team_point  3326 non-null   int64         \n",
      " 6   away_team_point  3326 non-null   int64         \n",
      " 7   league_name      3326 non-null   object        \n",
      " 8   home_team_name   3326 non-null   object        \n",
      " 9   away_team_name   3326 non-null   object        \n",
      " 10  match_goals      3326 non-null   int64         \n",
      "dtypes: datetime64[ns](1), int64(5), object(5)\n",
      "memory usage: 311.8+ KB\n"
     ]
    }
   ],
   "source": [
    "#information about the 2015/16 dataframe\n",
    "df_15_16.info()"
   ]
  },
  {
   "cell_type": "code",
   "execution_count": 38,
   "metadata": {},
   "outputs": [],
   "source": [
    "#reset index and drop the old index \n",
    "df_15_16.reset_index(drop=True, inplace = True)"
   ]
  },
  {
   "cell_type": "code",
   "execution_count": 39,
   "metadata": {},
   "outputs": [
    {
     "data": {
      "text/html": [
       "<div>\n",
       "<style scoped>\n",
       "    .dataframe tbody tr th:only-of-type {\n",
       "        vertical-align: middle;\n",
       "    }\n",
       "\n",
       "    .dataframe tbody tr th {\n",
       "        vertical-align: top;\n",
       "    }\n",
       "\n",
       "    .dataframe thead th {\n",
       "        text-align: right;\n",
       "    }\n",
       "</style>\n",
       "<table border=\"1\" class=\"dataframe\">\n",
       "  <thead>\n",
       "    <tr style=\"text-align: right;\">\n",
       "      <th></th>\n",
       "      <th>season</th>\n",
       "      <th>match_date</th>\n",
       "      <th>home_team_goal</th>\n",
       "      <th>away_team_goal</th>\n",
       "      <th>match_outcome</th>\n",
       "      <th>home_team_point</th>\n",
       "      <th>away_team_point</th>\n",
       "      <th>league_name</th>\n",
       "      <th>home_team_name</th>\n",
       "      <th>away_team_name</th>\n",
       "      <th>match_goals</th>\n",
       "    </tr>\n",
       "  </thead>\n",
       "  <tbody>\n",
       "    <tr>\n",
       "      <th>0</th>\n",
       "      <td>2015/2016</td>\n",
       "      <td>2015-07-24</td>\n",
       "      <td>2</td>\n",
       "      <td>1</td>\n",
       "      <td>home_win</td>\n",
       "      <td>3</td>\n",
       "      <td>0</td>\n",
       "      <td>Belgium Jupiler League</td>\n",
       "      <td>Sint-Truidense VV</td>\n",
       "      <td>Club Brugge KV</td>\n",
       "      <td>3</td>\n",
       "    </tr>\n",
       "    <tr>\n",
       "      <th>1</th>\n",
       "      <td>2015/2016</td>\n",
       "      <td>2015-07-25</td>\n",
       "      <td>2</td>\n",
       "      <td>1</td>\n",
       "      <td>home_win</td>\n",
       "      <td>3</td>\n",
       "      <td>0</td>\n",
       "      <td>Belgium Jupiler League</td>\n",
       "      <td>KV Kortrijk</td>\n",
       "      <td>Standard de Liège</td>\n",
       "      <td>3</td>\n",
       "    </tr>\n",
       "    <tr>\n",
       "      <th>2</th>\n",
       "      <td>2015/2016</td>\n",
       "      <td>2015-07-25</td>\n",
       "      <td>3</td>\n",
       "      <td>1</td>\n",
       "      <td>home_win</td>\n",
       "      <td>3</td>\n",
       "      <td>0</td>\n",
       "      <td>Belgium Jupiler League</td>\n",
       "      <td>KRC Genk</td>\n",
       "      <td>Oud-Heverlee Leuven</td>\n",
       "      <td>4</td>\n",
       "    </tr>\n",
       "    <tr>\n",
       "      <th>3</th>\n",
       "      <td>2015/2016</td>\n",
       "      <td>2015-07-25</td>\n",
       "      <td>3</td>\n",
       "      <td>1</td>\n",
       "      <td>home_win</td>\n",
       "      <td>3</td>\n",
       "      <td>0</td>\n",
       "      <td>Belgium Jupiler League</td>\n",
       "      <td>KV Oostende</td>\n",
       "      <td>KV Mechelen</td>\n",
       "      <td>4</td>\n",
       "    </tr>\n",
       "    <tr>\n",
       "      <th>4</th>\n",
       "      <td>2015/2016</td>\n",
       "      <td>2015-07-25</td>\n",
       "      <td>3</td>\n",
       "      <td>1</td>\n",
       "      <td>home_win</td>\n",
       "      <td>3</td>\n",
       "      <td>0</td>\n",
       "      <td>Belgium Jupiler League</td>\n",
       "      <td>SV Zulte-Waregem</td>\n",
       "      <td>Sporting Lokeren</td>\n",
       "      <td>4</td>\n",
       "    </tr>\n",
       "  </tbody>\n",
       "</table>\n",
       "</div>"
      ],
      "text/plain": [
       "      season match_date  home_team_goal  away_team_goal match_outcome  \\\n",
       "0  2015/2016 2015-07-24               2               1      home_win   \n",
       "1  2015/2016 2015-07-25               2               1      home_win   \n",
       "2  2015/2016 2015-07-25               3               1      home_win   \n",
       "3  2015/2016 2015-07-25               3               1      home_win   \n",
       "4  2015/2016 2015-07-25               3               1      home_win   \n",
       "\n",
       "   home_team_point  away_team_point             league_name  \\\n",
       "0                3                0  Belgium Jupiler League   \n",
       "1                3                0  Belgium Jupiler League   \n",
       "2                3                0  Belgium Jupiler League   \n",
       "3                3                0  Belgium Jupiler League   \n",
       "4                3                0  Belgium Jupiler League   \n",
       "\n",
       "      home_team_name       away_team_name  match_goals  \n",
       "0  Sint-Truidense VV       Club Brugge KV            3  \n",
       "1        KV Kortrijk    Standard de Liège            3  \n",
       "2           KRC Genk  Oud-Heverlee Leuven            4  \n",
       "3        KV Oostende          KV Mechelen            4  \n",
       "4   SV Zulte-Waregem     Sporting Lokeren            4  "
      ]
     },
     "execution_count": 39,
     "metadata": {},
     "output_type": "execute_result"
    }
   ],
   "source": [
    "# display first five columns\n",
    "df_15_16.head()"
   ]
  },
  {
   "cell_type": "code",
   "execution_count": 40,
   "metadata": {},
   "outputs": [
    {
     "data": {
      "text/plain": [
       "(3326, 11)"
      ]
     },
     "execution_count": 40,
     "metadata": {},
     "output_type": "execute_result"
    }
   ],
   "source": [
    "#number of rows and columns\n",
    "df_15_16.shape"
   ]
  },
  {
   "cell_type": "markdown",
   "metadata": {},
   "source": [
    "In this 2015/2016 season dataframe we have **11 columns(features)** characterizing **3326 rows(matches)**. "
   ]
  },
  {
   "cell_type": "code",
   "execution_count": 41,
   "metadata": {},
   "outputs": [
    {
     "data": {
      "text/html": [
       "<div>\n",
       "<style scoped>\n",
       "    .dataframe tbody tr th:only-of-type {\n",
       "        vertical-align: middle;\n",
       "    }\n",
       "\n",
       "    .dataframe tbody tr th {\n",
       "        vertical-align: top;\n",
       "    }\n",
       "\n",
       "    .dataframe thead th {\n",
       "        text-align: right;\n",
       "    }\n",
       "</style>\n",
       "<table border=\"1\" class=\"dataframe\">\n",
       "  <thead>\n",
       "    <tr style=\"text-align: right;\">\n",
       "      <th></th>\n",
       "      <th>home_team_goal</th>\n",
       "      <th>away_team_goal</th>\n",
       "      <th>home_team_point</th>\n",
       "      <th>away_team_point</th>\n",
       "      <th>match_goals</th>\n",
       "    </tr>\n",
       "  </thead>\n",
       "  <tbody>\n",
       "    <tr>\n",
       "      <th>count</th>\n",
       "      <td>3326.000000</td>\n",
       "      <td>3326.000000</td>\n",
       "      <td>3326.000000</td>\n",
       "      <td>3326.000000</td>\n",
       "      <td>3326.000000</td>\n",
       "    </tr>\n",
       "    <tr>\n",
       "      <th>mean</th>\n",
       "      <td>1.543897</td>\n",
       "      <td>1.210764</td>\n",
       "      <td>1.573061</td>\n",
       "      <td>1.169874</td>\n",
       "      <td>2.754660</td>\n",
       "    </tr>\n",
       "    <tr>\n",
       "      <th>std</th>\n",
       "      <td>1.318360</td>\n",
       "      <td>1.154169</td>\n",
       "      <td>1.315694</td>\n",
       "      <td>1.275686</td>\n",
       "      <td>1.668803</td>\n",
       "    </tr>\n",
       "    <tr>\n",
       "      <th>min</th>\n",
       "      <td>0.000000</td>\n",
       "      <td>0.000000</td>\n",
       "      <td>0.000000</td>\n",
       "      <td>0.000000</td>\n",
       "      <td>0.000000</td>\n",
       "    </tr>\n",
       "    <tr>\n",
       "      <th>25%</th>\n",
       "      <td>1.000000</td>\n",
       "      <td>0.000000</td>\n",
       "      <td>0.000000</td>\n",
       "      <td>0.000000</td>\n",
       "      <td>2.000000</td>\n",
       "    </tr>\n",
       "    <tr>\n",
       "      <th>50%</th>\n",
       "      <td>1.000000</td>\n",
       "      <td>1.000000</td>\n",
       "      <td>1.000000</td>\n",
       "      <td>1.000000</td>\n",
       "      <td>3.000000</td>\n",
       "    </tr>\n",
       "    <tr>\n",
       "      <th>75%</th>\n",
       "      <td>2.000000</td>\n",
       "      <td>2.000000</td>\n",
       "      <td>3.000000</td>\n",
       "      <td>3.000000</td>\n",
       "      <td>4.000000</td>\n",
       "    </tr>\n",
       "    <tr>\n",
       "      <th>max</th>\n",
       "      <td>10.000000</td>\n",
       "      <td>9.000000</td>\n",
       "      <td>3.000000</td>\n",
       "      <td>3.000000</td>\n",
       "      <td>12.000000</td>\n",
       "    </tr>\n",
       "  </tbody>\n",
       "</table>\n",
       "</div>"
      ],
      "text/plain": [
       "       home_team_goal  away_team_goal  home_team_point  away_team_point  \\\n",
       "count     3326.000000     3326.000000      3326.000000      3326.000000   \n",
       "mean         1.543897        1.210764         1.573061         1.169874   \n",
       "std          1.318360        1.154169         1.315694         1.275686   \n",
       "min          0.000000        0.000000         0.000000         0.000000   \n",
       "25%          1.000000        0.000000         0.000000         0.000000   \n",
       "50%          1.000000        1.000000         1.000000         1.000000   \n",
       "75%          2.000000        2.000000         3.000000         3.000000   \n",
       "max         10.000000        9.000000         3.000000         3.000000   \n",
       "\n",
       "       match_goals  \n",
       "count  3326.000000  \n",
       "mean      2.754660  \n",
       "std       1.668803  \n",
       "min       0.000000  \n",
       "25%       2.000000  \n",
       "50%       3.000000  \n",
       "75%       4.000000  \n",
       "max      12.000000  "
      ]
     },
     "execution_count": 41,
     "metadata": {},
     "output_type": "execute_result"
    }
   ],
   "source": [
    "#summary statistics for the numeric columns in our dataframe\n",
    "df_15_16.describe()"
   ]
  },
  {
   "cell_type": "code",
   "execution_count": 42,
   "metadata": {},
   "outputs": [
    {
     "data": {
      "image/png": "[encoded data removed]",
      "text/plain": [
       "<Figure size 1584x504 with 3 Axes>"
      ]
     },
     "metadata": {
      "needs_background": "light"
     },
     "output_type": "display_data"
    }
   ],
   "source": [
    "#distribution of goals and points for matches in the 2015/16 season  \n",
    "fig, ax = plt.subplots(1, 3, figsize=(22, 7))\n",
    "\n",
    "ax1 = df_15_16.boxplot(['home_team_point','away_team_point'], ax=ax[0])\n",
    "ax1.set_ylabel(\"points\", labelpad=5, fontweight='semibold')\n",
    "ax1.set_title(\"Home and away team points\", fontweight='semibold')\n",
    "\n",
    "ax2 = df_15_16.boxplot(['home_team_goal','away_team_goal'], ax=ax[1])\n",
    "ax2.set_ylabel(\"goals\", labelpad= 5, fontweight='semibold')\n",
    "ax2.set_title(\"home and away team goals\", fontweight='semibold')\n",
    "\n",
    "ax3 = df_15_16.boxplot(['match_goals'], ax=ax[2]);\n",
    "ax3.set_ylabel(\"goals\", labelpad=5, fontweight='semibold')\n",
    "ax3.set_title(\"Match goals\", fontweight='semibold')\n",
    "\n",
    "fig.suptitle(\"Distribution of goals and points for all matches in the 2015/2016 season\", weight='bold', size = 'xx-large');\n",
    "fig.supxlabel(\"Category\", fontweight='semibold');"
   ]
  },
  {
   "cell_type": "markdown",
   "metadata": {},
   "source": [
    "The summary statistics shows that the largest home team goals recorded during the 2015/2016 season is **10 goals**. Also we see the distribution of both home and away team point having their maximum and minimum at 3 and 0 respectively just as it ought to be.   "
   ]
  },
  {
   "cell_type": "markdown",
   "metadata": {},
   "source": [
    "#### 1) What were the top 5 most prolific?"
   ]
  },
  {
   "cell_type": "code",
   "execution_count": 43,
   "metadata": {
    "scrolled": true
   },
   "outputs": [
    {
     "data": {
      "text/plain": [
       "league_name\n",
       "Spain LIGA BBVA             1043\n",
       "England Premier League      1026\n",
       "Italy Serie A                979\n",
       "France Ligue 1               960\n",
       "Netherlands Eredivisie       912\n",
       "Germany 1. Bundesliga        866\n",
       "Portugal Liga ZON Sagres     831\n",
       "Belgium Jupiler League       694\n",
       "Scotland Premier League      650\n",
       "Poland Ekstraklasa           635\n",
       "Switzerland Super League     566\n",
       "Name: match_goals, dtype: int64"
      ]
     },
     "execution_count": 43,
     "metadata": {},
     "output_type": "execute_result"
    }
   ],
   "source": [
    "#Total number of goals scored in each league during the 2015/2016 season\n",
    "df_15_16.groupby('league_name')['match_goals'].sum().sort_values(ascending = False)"
   ]
  },
  {
   "cell_type": "code",
   "execution_count": 44,
   "metadata": {},
   "outputs": [
    {
     "data": {
      "image/png": "[encoded data removed]",
      "text/plain": [
       "<Figure size 432x288 with 1 Axes>"
      ]
     },
     "metadata": {
      "needs_background": "light"
     },
     "output_type": "display_data"
    }
   ],
   "source": [
    "# Get the top 5 leagues in terms of total goals witnessed through out the season\n",
    "top5_prolific_leagues = df_15_16.groupby('league_name')['match_goals'].sum().nlargest(5)\n",
    "\n",
    "#plot the number of goals scored by these top five prolific leagues\n",
    "tplax = top5_prolific_leagues.plot(kind = 'barh');\n",
    "tplax.bar_label(tplax.containers[0], label_type = 'center')\n",
    "plt.title('Number of goals scored in the top 5 most prolific leagues of 2015/2016', fontweight=\"bold\",  y=1.1)\n",
    "plt.ylabel(\"League\" , fontfamily = 'monospace', fontweight= 'semibold');\n",
    "plt.xlabel(\"Total number of goals\", fontfamily = 'monospace', fontweight= 'semibold');"
   ]
  },
  {
   "cell_type": "markdown",
   "metadata": {},
   "source": [
    "Using the above analysis, it appears that in the **2015/2016 season**, the **most** and **least prolific leagues** were the **Spain LIGA BBVA** with **1043 goals** and the **Switzerland Super League** with **566 goals**."
   ]
  },
  {
   "cell_type": "markdown",
   "metadata": {},
   "source": [
    "#### 2) Were the non-tie matches generally won by the home team?"
   ]
  },
  {
   "cell_type": "code",
   "execution_count": 45,
   "metadata": {},
   "outputs": [
    {
     "data": {
      "image/png": "[encoded data removed]",
      "text/plain": [
       "<Figure size 432x288 with 1 Axes>"
      ]
     },
     "metadata": {},
     "output_type": "display_data"
    }
   ],
   "source": [
    "# plot the percentage distribution of match outcomes during the 2015/2016 season\n",
    "df_15_16.match_outcome.value_counts().plot(kind='pie', autopct='%1.0f%%', explode=(0, 0, 0.1),label='', startangle=90);\n",
    "plt.title(\"Percentage distributions of all match outcomes for the 2015/2016 season\");"
   ]
  },
  {
   "cell_type": "markdown",
   "metadata": {},
   "source": [
    "We can see from pie chart that in the **2015/2016 season**, only **26%** of the matches resulted in a draw while. Also, a **home win** turned out to be the highest observed match outcome during the same season."
   ]
  },
  {
   "cell_type": "code",
   "execution_count": 46,
   "metadata": {},
   "outputs": [
    {
     "name": "stdout",
     "output_type": "stream",
     "text": [
      "Out of\u001b[1m 3326 matches\u001b[0;0m played across the 11 european leagues in the 2015/2016 season,\u001b[1m 855 \u001b[0;0mended up in a tie while the\u001b[1m 2471 \u001b[0;0mothers solded in a victory for one the opponents\n"
     ]
    }
   ],
   "source": [
    "#number of matches which ended in a tie between opponents\n",
    "draw_mask_15_16 = df_15_16['match_outcome'] == 'draw'\n",
    "draw_15_16_count = len(df_15_16[draw_mask_15_16])\n",
    "\n",
    "#number of matches which did not end in a tie\n",
    "nondraw_15_16 = df_15_16[~draw_mask_15_16] \n",
    "nondraw_15_16_count = len(nondraw_15_16)\n",
    "\n",
    "\n",
    "bold_start = '\\033[1m'\n",
    "bold_end = \"\\033[0;0m\" \n",
    "print(\"Out of\"+bold_start, len(df_15_16), \"matches\"+bold_end, \"played across the 11 european leagues in the 2015/2016 season,\"+bold_start, draw_15_16_count, bold_end+\"ended up in a tie while the\"+bold_start, nondraw_15_16_count, bold_end+\"others solded in a victory for one the opponents\")"
   ]
  },
  {
   "cell_type": "code",
   "execution_count": 47,
   "metadata": {},
   "outputs": [
    {
     "data": {
      "image/png": "[encoded data removed]",
      "text/plain": [
       "<Figure size 432x288 with 1 Axes>"
      ]
     },
     "metadata": {},
     "output_type": "display_data"
    }
   ],
   "source": [
    "# plot the percentage distribution of match outcomes for the 2015/2016 season's non-tie matches\n",
    "nondraw_15_16.match_outcome.value_counts().plot(kind='pie', autopct='%1.0f%%', explode = (0, 0.01), label='', wedgeprops=dict(width=.5));\n",
    "plt.title(\"Percentage distributions of match outcomes for the 2015/2016 season's non-tie matches\", fontweight = 'bold');"
   ]
  },
  {
   "cell_type": "markdown",
   "metadata": {},
   "source": [
    "Just as noticed when viewing the proportion of all match outcomes, a home win stills turns out to be the most witnessed non-tie match outcome during the 2015/2016 season. "
   ]
  },
  {
   "cell_type": "markdown",
   "metadata": {},
   "source": [
    "### B) League-specific Analysis :  England Premier League (EPL) 🏴󠁧󠁢󠁥󠁮󠁧󠁿"
   ]
  },
  {
   "cell_type": "markdown",
   "metadata": {},
   "source": [
    "Here we will start by creating a dataframe containing EPL data only."
   ]
  },
  {
   "cell_type": "code",
   "execution_count": 48,
   "metadata": {},
   "outputs": [],
   "source": [
    "#create a new dataframe that contains data for the English Premier League only\n",
    "df_epl = df_combined.query('league_name == \"England Premier League\"').copy()"
   ]
  },
  {
   "cell_type": "code",
   "execution_count": 49,
   "metadata": {},
   "outputs": [
    {
     "data": {
      "text/html": [
       "<div>\n",
       "<style scoped>\n",
       "    .dataframe tbody tr th:only-of-type {\n",
       "        vertical-align: middle;\n",
       "    }\n",
       "\n",
       "    .dataframe tbody tr th {\n",
       "        vertical-align: top;\n",
       "    }\n",
       "\n",
       "    .dataframe thead th {\n",
       "        text-align: right;\n",
       "    }\n",
       "</style>\n",
       "<table border=\"1\" class=\"dataframe\">\n",
       "  <thead>\n",
       "    <tr style=\"text-align: right;\">\n",
       "      <th></th>\n",
       "      <th>season</th>\n",
       "      <th>match_date</th>\n",
       "      <th>home_team_goal</th>\n",
       "      <th>away_team_goal</th>\n",
       "      <th>match_outcome</th>\n",
       "      <th>home_team_point</th>\n",
       "      <th>away_team_point</th>\n",
       "      <th>league_name</th>\n",
       "      <th>home_team_name</th>\n",
       "      <th>away_team_name</th>\n",
       "      <th>match_goals</th>\n",
       "    </tr>\n",
       "  </thead>\n",
       "  <tbody>\n",
       "    <tr>\n",
       "      <th>1728</th>\n",
       "      <td>2008/2009</td>\n",
       "      <td>2008-08-17</td>\n",
       "      <td>1</td>\n",
       "      <td>1</td>\n",
       "      <td>draw</td>\n",
       "      <td>1</td>\n",
       "      <td>1</td>\n",
       "      <td>England Premier League</td>\n",
       "      <td>Manchester United</td>\n",
       "      <td>Newcastle United</td>\n",
       "      <td>2</td>\n",
       "    </tr>\n",
       "    <tr>\n",
       "      <th>1729</th>\n",
       "      <td>2008/2009</td>\n",
       "      <td>2008-08-16</td>\n",
       "      <td>1</td>\n",
       "      <td>0</td>\n",
       "      <td>home_win</td>\n",
       "      <td>3</td>\n",
       "      <td>0</td>\n",
       "      <td>England Premier League</td>\n",
       "      <td>Arsenal</td>\n",
       "      <td>West Bromwich Albion</td>\n",
       "      <td>1</td>\n",
       "    </tr>\n",
       "    <tr>\n",
       "      <th>1730</th>\n",
       "      <td>2008/2009</td>\n",
       "      <td>2008-08-16</td>\n",
       "      <td>0</td>\n",
       "      <td>1</td>\n",
       "      <td>away_win</td>\n",
       "      <td>0</td>\n",
       "      <td>3</td>\n",
       "      <td>England Premier League</td>\n",
       "      <td>Sunderland</td>\n",
       "      <td>Liverpool</td>\n",
       "      <td>1</td>\n",
       "    </tr>\n",
       "    <tr>\n",
       "      <th>1731</th>\n",
       "      <td>2008/2009</td>\n",
       "      <td>2008-08-16</td>\n",
       "      <td>2</td>\n",
       "      <td>1</td>\n",
       "      <td>home_win</td>\n",
       "      <td>3</td>\n",
       "      <td>0</td>\n",
       "      <td>England Premier League</td>\n",
       "      <td>West Ham United</td>\n",
       "      <td>Wigan Athletic</td>\n",
       "      <td>3</td>\n",
       "    </tr>\n",
       "    <tr>\n",
       "      <th>1732</th>\n",
       "      <td>2008/2009</td>\n",
       "      <td>2008-08-17</td>\n",
       "      <td>4</td>\n",
       "      <td>2</td>\n",
       "      <td>home_win</td>\n",
       "      <td>3</td>\n",
       "      <td>0</td>\n",
       "      <td>England Premier League</td>\n",
       "      <td>Aston Villa</td>\n",
       "      <td>Manchester City</td>\n",
       "      <td>6</td>\n",
       "    </tr>\n",
       "  </tbody>\n",
       "</table>\n",
       "</div>"
      ],
      "text/plain": [
       "         season match_date  home_team_goal  away_team_goal match_outcome  \\\n",
       "1728  2008/2009 2008-08-17               1               1          draw   \n",
       "1729  2008/2009 2008-08-16               1               0      home_win   \n",
       "1730  2008/2009 2008-08-16               0               1      away_win   \n",
       "1731  2008/2009 2008-08-16               2               1      home_win   \n",
       "1732  2008/2009 2008-08-17               4               2      home_win   \n",
       "\n",
       "      home_team_point  away_team_point             league_name  \\\n",
       "1728                1                1  England Premier League   \n",
       "1729                3                0  England Premier League   \n",
       "1730                0                3  England Premier League   \n",
       "1731                3                0  England Premier League   \n",
       "1732                3                0  England Premier League   \n",
       "\n",
       "         home_team_name        away_team_name  match_goals  \n",
       "1728  Manchester United      Newcastle United            2  \n",
       "1729            Arsenal  West Bromwich Albion            1  \n",
       "1730         Sunderland             Liverpool            1  \n",
       "1731    West Ham United        Wigan Athletic            3  \n",
       "1732        Aston Villa       Manchester City            6  "
      ]
     },
     "execution_count": 49,
     "metadata": {},
     "output_type": "execute_result"
    }
   ],
   "source": [
    "df_epl.head()"
   ]
  },
  {
   "cell_type": "code",
   "execution_count": 50,
   "metadata": {},
   "outputs": [],
   "source": [
    "df_epl.reset_index(drop=True, inplace = True)"
   ]
  },
  {
   "cell_type": "code",
   "execution_count": 51,
   "metadata": {},
   "outputs": [
    {
     "name": "stdout",
     "output_type": "stream",
     "text": [
      "<class 'pandas.core.frame.DataFrame'>\n",
      "RangeIndex: 3040 entries, 0 to 3039\n",
      "Data columns (total 11 columns):\n",
      " #   Column           Non-Null Count  Dtype         \n",
      "---  ------           --------------  -----         \n",
      " 0   season           3040 non-null   object        \n",
      " 1   match_date       3040 non-null   datetime64[ns]\n",
      " 2   home_team_goal   3040 non-null   int64         \n",
      " 3   away_team_goal   3040 non-null   int64         \n",
      " 4   match_outcome    3040 non-null   object        \n",
      " 5   home_team_point  3040 non-null   int64         \n",
      " 6   away_team_point  3040 non-null   int64         \n",
      " 7   league_name      3040 non-null   object        \n",
      " 8   home_team_name   3040 non-null   object        \n",
      " 9   away_team_name   3040 non-null   object        \n",
      " 10  match_goals      3040 non-null   int64         \n",
      "dtypes: datetime64[ns](1), int64(5), object(5)\n",
      "memory usage: 261.4+ KB\n"
     ]
    }
   ],
   "source": [
    "df_epl.info()"
   ]
  },
  {
   "cell_type": "markdown",
   "metadata": {},
   "source": [
    "We can observe that our EPL dataframe we have **3040 rows** and **11 columns** - all having appropriate dtype and no missen value.\n",
    "\n",
    "Now let us get a summary statistics of the numeric columns it contains. "
   ]
  },
  {
   "cell_type": "code",
   "execution_count": 52,
   "metadata": {},
   "outputs": [
    {
     "data": {
      "text/html": [
       "<div>\n",
       "<style scoped>\n",
       "    .dataframe tbody tr th:only-of-type {\n",
       "        vertical-align: middle;\n",
       "    }\n",
       "\n",
       "    .dataframe tbody tr th {\n",
       "        vertical-align: top;\n",
       "    }\n",
       "\n",
       "    .dataframe thead th {\n",
       "        text-align: right;\n",
       "    }\n",
       "</style>\n",
       "<table border=\"1\" class=\"dataframe\">\n",
       "  <thead>\n",
       "    <tr style=\"text-align: right;\">\n",
       "      <th></th>\n",
       "      <th>home_team_goal</th>\n",
       "      <th>away_team_goal</th>\n",
       "      <th>home_team_point</th>\n",
       "      <th>away_team_point</th>\n",
       "      <th>match_goals</th>\n",
       "    </tr>\n",
       "  </thead>\n",
       "  <tbody>\n",
       "    <tr>\n",
       "      <th>count</th>\n",
       "      <td>3040.000000</td>\n",
       "      <td>3040.000000</td>\n",
       "      <td>3040.000000</td>\n",
       "      <td>3040.000000</td>\n",
       "      <td>3040.000000</td>\n",
       "    </tr>\n",
       "    <tr>\n",
       "      <th>mean</th>\n",
       "      <td>1.550987</td>\n",
       "      <td>1.159539</td>\n",
       "      <td>1.629276</td>\n",
       "      <td>1.113158</td>\n",
       "      <td>2.710526</td>\n",
       "    </tr>\n",
       "    <tr>\n",
       "      <th>std</th>\n",
       "      <td>1.311615</td>\n",
       "      <td>1.144629</td>\n",
       "      <td>1.311000</td>\n",
       "      <td>1.259263</td>\n",
       "      <td>1.691127</td>\n",
       "    </tr>\n",
       "    <tr>\n",
       "      <th>min</th>\n",
       "      <td>0.000000</td>\n",
       "      <td>0.000000</td>\n",
       "      <td>0.000000</td>\n",
       "      <td>0.000000</td>\n",
       "      <td>0.000000</td>\n",
       "    </tr>\n",
       "    <tr>\n",
       "      <th>25%</th>\n",
       "      <td>1.000000</td>\n",
       "      <td>0.000000</td>\n",
       "      <td>0.000000</td>\n",
       "      <td>0.000000</td>\n",
       "      <td>1.000000</td>\n",
       "    </tr>\n",
       "    <tr>\n",
       "      <th>50%</th>\n",
       "      <td>1.000000</td>\n",
       "      <td>1.000000</td>\n",
       "      <td>1.000000</td>\n",
       "      <td>1.000000</td>\n",
       "      <td>3.000000</td>\n",
       "    </tr>\n",
       "    <tr>\n",
       "      <th>75%</th>\n",
       "      <td>2.000000</td>\n",
       "      <td>2.000000</td>\n",
       "      <td>3.000000</td>\n",
       "      <td>3.000000</td>\n",
       "      <td>4.000000</td>\n",
       "    </tr>\n",
       "    <tr>\n",
       "      <th>max</th>\n",
       "      <td>9.000000</td>\n",
       "      <td>6.000000</td>\n",
       "      <td>3.000000</td>\n",
       "      <td>3.000000</td>\n",
       "      <td>10.000000</td>\n",
       "    </tr>\n",
       "  </tbody>\n",
       "</table>\n",
       "</div>"
      ],
      "text/plain": [
       "       home_team_goal  away_team_goal  home_team_point  away_team_point  \\\n",
       "count     3040.000000     3040.000000      3040.000000      3040.000000   \n",
       "mean         1.550987        1.159539         1.629276         1.113158   \n",
       "std          1.311615        1.144629         1.311000         1.259263   \n",
       "min          0.000000        0.000000         0.000000         0.000000   \n",
       "25%          1.000000        0.000000         0.000000         0.000000   \n",
       "50%          1.000000        1.000000         1.000000         1.000000   \n",
       "75%          2.000000        2.000000         3.000000         3.000000   \n",
       "max          9.000000        6.000000         3.000000         3.000000   \n",
       "\n",
       "       match_goals  \n",
       "count  3040.000000  \n",
       "mean      2.710526  \n",
       "std       1.691127  \n",
       "min       0.000000  \n",
       "25%       1.000000  \n",
       "50%       3.000000  \n",
       "75%       4.000000  \n",
       "max      10.000000  "
      ]
     },
     "execution_count": 52,
     "metadata": {},
     "output_type": "execute_result"
    }
   ],
   "source": [
    "df_epl.describe()"
   ]
  },
  {
   "cell_type": "code",
   "execution_count": 53,
   "metadata": {},
   "outputs": [
    {
     "data": {
      "image/png": "[encoded data removed]",
      "text/plain": [
       "<Figure size 1584x504 with 3 Axes>"
      ]
     },
     "metadata": {
      "needs_background": "light"
     },
     "output_type": "display_data"
    }
   ],
   "source": [
    "#distribution of goals and points for matches in the EPL across all seasons \n",
    "fig, ax = plt.subplots(1, 3, figsize=(22, 7))\n",
    "\n",
    "ax1 = df_epl.boxplot(['home_team_point','away_team_point'], ax=ax[0])\n",
    "ax1.set_ylabel(\"points\", labelpad=5, fontweight='semibold')\n",
    "ax1.set_title(\"Home and away team points\", fontweight='semibold')\n",
    "\n",
    "ax2 = df_epl.boxplot(['home_team_goal','away_team_goal'], ax=ax[1])\n",
    "ax2.set_ylabel(\"goals\", labelpad= 5, fontweight='semibold')\n",
    "ax2.set_title(\"home and away team goals\", fontweight='semibold')\n",
    "\n",
    "ax3 = df_epl.boxplot(['match_goals'], ax=ax[2]);\n",
    "ax3.set_ylabel(\"goals\", labelpad=5, fontweight='semibold')\n",
    "ax3.set_title(\"Match goals\", fontweight='semibold')\n",
    "\n",
    "fig.suptitle(\"Distribution of goals and points for matches in the EPL across all seasons\", weight='bold', size = 'xx-large');\n",
    "fig.supxlabel(\"Category\", fontweight='semibold');"
   ]
  },
  {
   "cell_type": "markdown",
   "metadata": {},
   "source": [
    "From the above we notice that in the EPL, the distribution of goals scored by the away team positively scored and half of the matches witnessed 3+ goals."
   ]
  },
  {
   "cell_type": "markdown",
   "metadata": {},
   "source": [
    "#### 3) What season recorded the least draws"
   ]
  },
  {
   "cell_type": "code",
   "execution_count": 54,
   "metadata": {},
   "outputs": [],
   "source": [
    "#select epl matches that ended up in a tie and count them\n",
    "df_epl_draw = df_epl[df_epl['match_outcome']=='draw']\n",
    "epl_draw_count = df_epl_draw.groupby('season')['match_outcome'].apply('count')"
   ]
  },
  {
   "cell_type": "code",
   "execution_count": 55,
   "metadata": {},
   "outputs": [
    {
     "data": {
      "image/png": "[encoded data removed]",
      "text/plain": [
       "<Figure size 720x360 with 1 Axes>"
      ]
     },
     "metadata": {
      "needs_background": "light"
     },
     "output_type": "display_data"
    }
   ],
   "source": [
    "# plot the total number of draws per epl season\n",
    "colors_draw = ['grey' if (x > min(epl_draw_count)) else 'red' for x in epl_draw_count]\n",
    "epl_draw_ax = epl_draw_count.plot(kind='bar', figsize=(10, 5), rot=10, ylim = (0,120), color=colors_draw)\n",
    "epl_draw_ax.bar_label(epl_draw_ax.containers[0]);\n",
    "plt.title('Total number of draws per EPL season', fontweight=\"bold\",  y=1.1)\n",
    "plt.xlabel(\"Season\" , fontfamily = 'monospace', fontweight= 'semibold');\n",
    "plt.ylabel(\"Total number of draws\", fontfamily = 'monospace', fontweight= 'semibold');"
   ]
  },
  {
   "cell_type": "markdown",
   "metadata": {},
   "source": [
    "The above bar plot highlights that the EPL witnessed least number of draws during the **2013/14** season with a count of **78**. This was followed by both the **2011/2012** and **2014/2015 seasons** in which **93 draws** were recorded."
   ]
  },
  {
   "cell_type": "markdown",
   "metadata": {},
   "source": [
    "#### 4)Who are the highest league winners?"
   ]
  },
  {
   "cell_type": "code",
   "execution_count": 56,
   "metadata": {},
   "outputs": [
    {
     "data": {
      "text/html": [
       "<div>\n",
       "<style scoped>\n",
       "    .dataframe tbody tr th:only-of-type {\n",
       "        vertical-align: middle;\n",
       "    }\n",
       "\n",
       "    .dataframe tbody tr th {\n",
       "        vertical-align: top;\n",
       "    }\n",
       "\n",
       "    .dataframe thead th {\n",
       "        text-align: right;\n",
       "    }\n",
       "</style>\n",
       "<table border=\"1\" class=\"dataframe\">\n",
       "  <thead>\n",
       "    <tr style=\"text-align: right;\">\n",
       "      <th></th>\n",
       "      <th>team</th>\n",
       "      <th>goal</th>\n",
       "      <th>point</th>\n",
       "      <th>match_date</th>\n",
       "      <th>season</th>\n",
       "    </tr>\n",
       "  </thead>\n",
       "  <tbody>\n",
       "    <tr>\n",
       "      <th>0</th>\n",
       "      <td>Manchester United</td>\n",
       "      <td>1</td>\n",
       "      <td>1</td>\n",
       "      <td>2008-08-17</td>\n",
       "      <td>2008/2009</td>\n",
       "    </tr>\n",
       "    <tr>\n",
       "      <th>1</th>\n",
       "      <td>Arsenal</td>\n",
       "      <td>1</td>\n",
       "      <td>3</td>\n",
       "      <td>2008-08-16</td>\n",
       "      <td>2008/2009</td>\n",
       "    </tr>\n",
       "    <tr>\n",
       "      <th>2</th>\n",
       "      <td>Sunderland</td>\n",
       "      <td>0</td>\n",
       "      <td>0</td>\n",
       "      <td>2008-08-16</td>\n",
       "      <td>2008/2009</td>\n",
       "    </tr>\n",
       "    <tr>\n",
       "      <th>3</th>\n",
       "      <td>West Ham United</td>\n",
       "      <td>2</td>\n",
       "      <td>3</td>\n",
       "      <td>2008-08-16</td>\n",
       "      <td>2008/2009</td>\n",
       "    </tr>\n",
       "    <tr>\n",
       "      <th>4</th>\n",
       "      <td>Aston Villa</td>\n",
       "      <td>4</td>\n",
       "      <td>3</td>\n",
       "      <td>2008-08-17</td>\n",
       "      <td>2008/2009</td>\n",
       "    </tr>\n",
       "  </tbody>\n",
       "</table>\n",
       "</div>"
      ],
      "text/plain": [
       "                team  goal  point match_date     season\n",
       "0  Manchester United     1      1 2008-08-17  2008/2009\n",
       "1            Arsenal     1      3 2008-08-16  2008/2009\n",
       "2         Sunderland     0      0 2008-08-16  2008/2009\n",
       "3    West Ham United     2      3 2008-08-16  2008/2009\n",
       "4        Aston Villa     4      3 2008-08-17  2008/2009"
      ]
     },
     "execution_count": 56,
     "metadata": {},
     "output_type": "execute_result"
    }
   ],
   "source": [
    "# extraxt the goal and point a team got after every match\n",
    "\n",
    "epl_home=df_epl.loc[:,('home_team_name','home_team_goal','home_team_point', 'match_date', 'season')]\n",
    "epl_home.rename(index=str, columns={'home_team_name':'team','home_team_goal':'goal', 'home_team_point':'point'}, inplace=True)\n",
    "\n",
    "epl_away=df_epl.loc[:,('away_team_name','away_team_goal' ,'away_team_point', 'match_date', 'season')]\n",
    "epl_away.rename(index=str, columns={'away_team_name':'team','away_team_goal':'goal', 'away_team_point':'point'}, inplace=True)\n",
    "\n",
    "epl_goal_point=pd.concat([epl_home, epl_away], ignore_index=True)\n",
    "epl_goal_point.head()"
   ]
  },
  {
   "cell_type": "markdown",
   "metadata": {},
   "source": [
    "With the goals and points a team got for each match extracted, we will group each of these teams' goals and points per season to know which the total number of goals and points they got at he end of the season."
   ]
  },
  {
   "cell_type": "code",
   "execution_count": 57,
   "metadata": {},
   "outputs": [
    {
     "data": {
      "text/html": [
       "<div>\n",
       "<style scoped>\n",
       "    .dataframe tbody tr th:only-of-type {\n",
       "        vertical-align: middle;\n",
       "    }\n",
       "\n",
       "    .dataframe tbody tr th {\n",
       "        vertical-align: top;\n",
       "    }\n",
       "\n",
       "    .dataframe thead th {\n",
       "        text-align: right;\n",
       "    }\n",
       "</style>\n",
       "<table border=\"1\" class=\"dataframe\">\n",
       "  <thead>\n",
       "    <tr style=\"text-align: right;\">\n",
       "      <th></th>\n",
       "      <th>season</th>\n",
       "      <th>team</th>\n",
       "      <th>goal</th>\n",
       "      <th>point</th>\n",
       "    </tr>\n",
       "  </thead>\n",
       "  <tbody>\n",
       "    <tr>\n",
       "      <th>0</th>\n",
       "      <td>2008/2009</td>\n",
       "      <td>Arsenal</td>\n",
       "      <td>68</td>\n",
       "      <td>72</td>\n",
       "    </tr>\n",
       "    <tr>\n",
       "      <th>1</th>\n",
       "      <td>2008/2009</td>\n",
       "      <td>Aston Villa</td>\n",
       "      <td>54</td>\n",
       "      <td>62</td>\n",
       "    </tr>\n",
       "    <tr>\n",
       "      <th>2</th>\n",
       "      <td>2008/2009</td>\n",
       "      <td>Blackburn Rovers</td>\n",
       "      <td>40</td>\n",
       "      <td>41</td>\n",
       "    </tr>\n",
       "    <tr>\n",
       "      <th>3</th>\n",
       "      <td>2008/2009</td>\n",
       "      <td>Bolton Wanderers</td>\n",
       "      <td>41</td>\n",
       "      <td>41</td>\n",
       "    </tr>\n",
       "    <tr>\n",
       "      <th>4</th>\n",
       "      <td>2008/2009</td>\n",
       "      <td>Chelsea</td>\n",
       "      <td>68</td>\n",
       "      <td>83</td>\n",
       "    </tr>\n",
       "  </tbody>\n",
       "</table>\n",
       "</div>"
      ],
      "text/plain": [
       "      season              team  goal  point\n",
       "0  2008/2009           Arsenal    68     72\n",
       "1  2008/2009       Aston Villa    54     62\n",
       "2  2008/2009  Blackburn Rovers    40     41\n",
       "3  2008/2009  Bolton Wanderers    41     41\n",
       "4  2008/2009           Chelsea    68     83"
      ]
     },
     "execution_count": 57,
     "metadata": {},
     "output_type": "execute_result"
    }
   ],
   "source": [
    "# extract total number of goals and points gotten by each team at the end of the season\n",
    "epl_goal_point_agg = epl_goal_point.groupby(['season','team'],  as_index=False)[['goal', 'point']].apply(sum)\n",
    "epl_goal_point_agg.head()"
   ]
  },
  {
   "cell_type": "markdown",
   "metadata": {},
   "source": [
    "With data on the aggregated sum of points each team got per season, we will determine the winner of each EPL season by finding the team with the highest points.  "
   ]
  },
  {
   "cell_type": "code",
   "execution_count": 58,
   "metadata": {},
   "outputs": [
    {
     "data": {
      "text/html": [
       "<div>\n",
       "<style scoped>\n",
       "    .dataframe tbody tr th:only-of-type {\n",
       "        vertical-align: middle;\n",
       "    }\n",
       "\n",
       "    .dataframe tbody tr th {\n",
       "        vertical-align: top;\n",
       "    }\n",
       "\n",
       "    .dataframe thead th {\n",
       "        text-align: right;\n",
       "    }\n",
       "</style>\n",
       "<table border=\"1\" class=\"dataframe\">\n",
       "  <thead>\n",
       "    <tr style=\"text-align: right;\">\n",
       "      <th></th>\n",
       "      <th>season</th>\n",
       "      <th>win_team</th>\n",
       "      <th>win_team_goals</th>\n",
       "      <th>win_team_points</th>\n",
       "    </tr>\n",
       "  </thead>\n",
       "  <tbody>\n",
       "    <tr>\n",
       "      <th>0</th>\n",
       "      <td>2008/2009</td>\n",
       "      <td>Manchester United</td>\n",
       "      <td>68</td>\n",
       "      <td>90</td>\n",
       "    </tr>\n",
       "    <tr>\n",
       "      <th>1</th>\n",
       "      <td>2009/2010</td>\n",
       "      <td>Chelsea</td>\n",
       "      <td>103</td>\n",
       "      <td>86</td>\n",
       "    </tr>\n",
       "    <tr>\n",
       "      <th>2</th>\n",
       "      <td>2010/2011</td>\n",
       "      <td>Manchester United</td>\n",
       "      <td>78</td>\n",
       "      <td>80</td>\n",
       "    </tr>\n",
       "    <tr>\n",
       "      <th>3</th>\n",
       "      <td>2011/2012</td>\n",
       "      <td>Manchester City</td>\n",
       "      <td>93</td>\n",
       "      <td>89</td>\n",
       "    </tr>\n",
       "    <tr>\n",
       "      <th>4</th>\n",
       "      <td>2011/2012</td>\n",
       "      <td>Manchester United</td>\n",
       "      <td>89</td>\n",
       "      <td>89</td>\n",
       "    </tr>\n",
       "    <tr>\n",
       "      <th>5</th>\n",
       "      <td>2012/2013</td>\n",
       "      <td>Manchester United</td>\n",
       "      <td>86</td>\n",
       "      <td>89</td>\n",
       "    </tr>\n",
       "    <tr>\n",
       "      <th>6</th>\n",
       "      <td>2013/2014</td>\n",
       "      <td>Manchester City</td>\n",
       "      <td>102</td>\n",
       "      <td>86</td>\n",
       "    </tr>\n",
       "    <tr>\n",
       "      <th>7</th>\n",
       "      <td>2014/2015</td>\n",
       "      <td>Chelsea</td>\n",
       "      <td>73</td>\n",
       "      <td>87</td>\n",
       "    </tr>\n",
       "    <tr>\n",
       "      <th>8</th>\n",
       "      <td>2015/2016</td>\n",
       "      <td>Leicester City</td>\n",
       "      <td>68</td>\n",
       "      <td>81</td>\n",
       "    </tr>\n",
       "  </tbody>\n",
       "</table>\n",
       "</div>"
      ],
      "text/plain": [
       "      season           win_team  win_team_goals  win_team_points\n",
       "0  2008/2009  Manchester United              68               90\n",
       "1  2009/2010            Chelsea             103               86\n",
       "2  2010/2011  Manchester United              78               80\n",
       "3  2011/2012    Manchester City              93               89\n",
       "4  2011/2012  Manchester United              89               89\n",
       "5  2012/2013  Manchester United              86               89\n",
       "6  2013/2014    Manchester City             102               86\n",
       "7  2014/2015            Chelsea              73               87\n",
       "8  2015/2016     Leicester City              68               81"
      ]
     },
     "execution_count": 58,
     "metadata": {},
     "output_type": "execute_result"
    }
   ],
   "source": [
    "# extract information on the winner of each each epl season \n",
    "points_idx = epl_goal_point_agg.groupby(['season'])['point'].transform(max) == epl_goal_point_agg['point']\n",
    "epl_top_points = epl_goal_point_agg[points_idx][['season','team','goal','point']].reset_index(drop=True)\n",
    "epl_top_points.rename(index=str, columns = {'team':'win_team','goal':'win_team_goals', 'point': 'win_team_points'}, inplace=True)\n",
    "epl_top_points"
   ]
  },
  {
   "cell_type": "markdown",
   "metadata": {},
   "source": [
    "From the above table we notice that the EPL winner for each season tends to have **80 points and above** and scores a minimum of **68 goals**. Also, Chelsea emerges as the top scoring EPL winner after being able to get **103 goals** during the **2009/2010 season**."
   ]
  },
  {
   "cell_type": "code",
   "execution_count": 59,
   "metadata": {},
   "outputs": [],
   "source": [
    "# number of epl trophies gotten \n",
    "epl_league_wins = epl_top_points['win_team'].value_counts()"
   ]
  },
  {
   "cell_type": "code",
   "execution_count": 60,
   "metadata": {},
   "outputs": [
    {
     "data": {
      "image/png": "[encoded data removed]",
      "text/plain": [
       "<Figure size 432x288 with 1 Axes>"
      ]
     },
     "metadata": {
      "needs_background": "light"
     },
     "output_type": "display_data"
    }
   ],
   "source": [
    "# plot number of epl trophies gotten\n",
    "colors_win = ['blue' if (x < max(epl_top_points['win_team_points'])) else '#cc0000' for x in epl_top_points['win_team_points']]\n",
    "epl_league_wins.plot(kind='barh',xticks=[0,1,2,3,4], color=colors_win);\n",
    "plt.title(\"Number of EPL titles per team that won at least once\", fontweight=\"bold\",  y=1.1)\n",
    "plt.xlabel(\"number of epl titles\" , fontfamily = 'monospace', fontweight= 'semibold');\n",
    "plt.ylabel(\"EPL team\", fontfamily = 'monospace', fontweight= 'semibold');"
   ]
  },
  {
   "cell_type": "markdown",
   "metadata": {},
   "source": [
    "We can notice that for the **9 seasons** of EPL data we have, only **4 teams** suceeded to emerge as winner; **Manchester United**, **Machester City**, **Chelsea** and **Leicester**. Within this period **Manchester United** takes the top position of most crowned being seconded by both Manchester City and Chelsea with **2 titles** each."
   ]
  },
  {
   "cell_type": "markdown",
   "metadata": {},
   "source": [
    "#### 5) Does the top scoring team generally win the league?"
   ]
  },
  {
   "cell_type": "markdown",
   "metadata": {},
   "source": [
    ">    **Note**\n",
    "> - **Top scoring team** is the team that scored the most goals in a given English Premier League season\n",
    "> - **Winning team** is the team that earned the most points(won) in a given English Premier League season"
   ]
  },
  {
   "cell_type": "code",
   "execution_count": 61,
   "metadata": {},
   "outputs": [
    {
     "data": {
      "text/html": [
       "<div>\n",
       "<style scoped>\n",
       "    .dataframe tbody tr th:only-of-type {\n",
       "        vertical-align: middle;\n",
       "    }\n",
       "\n",
       "    .dataframe tbody tr th {\n",
       "        vertical-align: top;\n",
       "    }\n",
       "\n",
       "    .dataframe thead th {\n",
       "        text-align: right;\n",
       "    }\n",
       "</style>\n",
       "<table border=\"1\" class=\"dataframe\">\n",
       "  <thead>\n",
       "    <tr style=\"text-align: right;\">\n",
       "      <th></th>\n",
       "      <th>season</th>\n",
       "      <th>score_team</th>\n",
       "      <th>score_team_goals</th>\n",
       "      <th>score_team_points</th>\n",
       "    </tr>\n",
       "  </thead>\n",
       "  <tbody>\n",
       "    <tr>\n",
       "      <th>0</th>\n",
       "      <td>2008/2009</td>\n",
       "      <td>Liverpool</td>\n",
       "      <td>77</td>\n",
       "      <td>86</td>\n",
       "    </tr>\n",
       "    <tr>\n",
       "      <th>1</th>\n",
       "      <td>2009/2010</td>\n",
       "      <td>Chelsea</td>\n",
       "      <td>103</td>\n",
       "      <td>86</td>\n",
       "    </tr>\n",
       "    <tr>\n",
       "      <th>2</th>\n",
       "      <td>2010/2011</td>\n",
       "      <td>Manchester United</td>\n",
       "      <td>78</td>\n",
       "      <td>80</td>\n",
       "    </tr>\n",
       "    <tr>\n",
       "      <th>3</th>\n",
       "      <td>2011/2012</td>\n",
       "      <td>Manchester City</td>\n",
       "      <td>93</td>\n",
       "      <td>89</td>\n",
       "    </tr>\n",
       "    <tr>\n",
       "      <th>4</th>\n",
       "      <td>2012/2013</td>\n",
       "      <td>Manchester United</td>\n",
       "      <td>86</td>\n",
       "      <td>89</td>\n",
       "    </tr>\n",
       "    <tr>\n",
       "      <th>5</th>\n",
       "      <td>2013/2014</td>\n",
       "      <td>Manchester City</td>\n",
       "      <td>102</td>\n",
       "      <td>86</td>\n",
       "    </tr>\n",
       "    <tr>\n",
       "      <th>6</th>\n",
       "      <td>2014/2015</td>\n",
       "      <td>Manchester City</td>\n",
       "      <td>83</td>\n",
       "      <td>79</td>\n",
       "    </tr>\n",
       "    <tr>\n",
       "      <th>7</th>\n",
       "      <td>2015/2016</td>\n",
       "      <td>Manchester City</td>\n",
       "      <td>71</td>\n",
       "      <td>66</td>\n",
       "    </tr>\n",
       "  </tbody>\n",
       "</table>\n",
       "</div>"
      ],
      "text/plain": [
       "      season         score_team  score_team_goals  score_team_points\n",
       "0  2008/2009          Liverpool                77                 86\n",
       "1  2009/2010            Chelsea               103                 86\n",
       "2  2010/2011  Manchester United                78                 80\n",
       "3  2011/2012    Manchester City                93                 89\n",
       "4  2012/2013  Manchester United                86                 89\n",
       "5  2013/2014    Manchester City               102                 86\n",
       "6  2014/2015    Manchester City                83                 79\n",
       "7  2015/2016    Manchester City                71                 66"
      ]
     },
     "execution_count": 61,
     "metadata": {},
     "output_type": "execute_result"
    }
   ],
   "source": [
    "# extract information on the top scoring team for each each epl season\n",
    "goals_idx = epl_goal_point_agg.groupby(['season'])['goal'].transform(max) == epl_goal_point_agg['goal']\n",
    "epl_top_goals = epl_goal_point_agg[goals_idx][['season','team', 'goal', 'point']].reset_index(drop=True)\n",
    "epl_top_goals.rename(index=str, columns = {'team':'score_team','goal':'score_team_goals', 'point': 'score_team_points'}, inplace=True)\n",
    "epl_top_goals"
   ]
  },
  {
   "cell_type": "markdown",
   "metadata": {},
   "source": [
    "From the above table we notice that the top scoring team in the EPL tends to have **71 goals and above** and most often earns **86+ points**. \n",
    "\n",
    "Now that we information on winner and top scoring team for each EPL season, we will combine them so as to explore the likelihood of the top scoring team being the winner.  "
   ]
  },
  {
   "cell_type": "code",
   "execution_count": 62,
   "metadata": {},
   "outputs": [
    {
     "data": {
      "text/html": [
       "<div>\n",
       "<style scoped>\n",
       "    .dataframe tbody tr th:only-of-type {\n",
       "        vertical-align: middle;\n",
       "    }\n",
       "\n",
       "    .dataframe tbody tr th {\n",
       "        vertical-align: top;\n",
       "    }\n",
       "\n",
       "    .dataframe thead th {\n",
       "        text-align: right;\n",
       "    }\n",
       "</style>\n",
       "<table border=\"1\" class=\"dataframe\">\n",
       "  <thead>\n",
       "    <tr style=\"text-align: right;\">\n",
       "      <th></th>\n",
       "      <th>season</th>\n",
       "      <th>score_team</th>\n",
       "      <th>score_team_goals</th>\n",
       "      <th>score_team_points</th>\n",
       "      <th>win_team</th>\n",
       "      <th>win_team_goals</th>\n",
       "      <th>win_team_points</th>\n",
       "    </tr>\n",
       "  </thead>\n",
       "  <tbody>\n",
       "    <tr>\n",
       "      <th>0</th>\n",
       "      <td>2008/2009</td>\n",
       "      <td>Liverpool</td>\n",
       "      <td>77</td>\n",
       "      <td>86</td>\n",
       "      <td>Manchester United</td>\n",
       "      <td>68</td>\n",
       "      <td>90</td>\n",
       "    </tr>\n",
       "    <tr>\n",
       "      <th>1</th>\n",
       "      <td>2009/2010</td>\n",
       "      <td>Chelsea</td>\n",
       "      <td>103</td>\n",
       "      <td>86</td>\n",
       "      <td>Chelsea</td>\n",
       "      <td>103</td>\n",
       "      <td>86</td>\n",
       "    </tr>\n",
       "    <tr>\n",
       "      <th>2</th>\n",
       "      <td>2010/2011</td>\n",
       "      <td>Manchester United</td>\n",
       "      <td>78</td>\n",
       "      <td>80</td>\n",
       "      <td>Manchester United</td>\n",
       "      <td>78</td>\n",
       "      <td>80</td>\n",
       "    </tr>\n",
       "    <tr>\n",
       "      <th>3</th>\n",
       "      <td>2011/2012</td>\n",
       "      <td>Manchester City</td>\n",
       "      <td>93</td>\n",
       "      <td>89</td>\n",
       "      <td>Manchester City</td>\n",
       "      <td>93</td>\n",
       "      <td>89</td>\n",
       "    </tr>\n",
       "    <tr>\n",
       "      <th>4</th>\n",
       "      <td>2011/2012</td>\n",
       "      <td>Manchester City</td>\n",
       "      <td>93</td>\n",
       "      <td>89</td>\n",
       "      <td>Manchester United</td>\n",
       "      <td>89</td>\n",
       "      <td>89</td>\n",
       "    </tr>\n",
       "    <tr>\n",
       "      <th>5</th>\n",
       "      <td>2012/2013</td>\n",
       "      <td>Manchester United</td>\n",
       "      <td>86</td>\n",
       "      <td>89</td>\n",
       "      <td>Manchester United</td>\n",
       "      <td>86</td>\n",
       "      <td>89</td>\n",
       "    </tr>\n",
       "    <tr>\n",
       "      <th>6</th>\n",
       "      <td>2013/2014</td>\n",
       "      <td>Manchester City</td>\n",
       "      <td>102</td>\n",
       "      <td>86</td>\n",
       "      <td>Manchester City</td>\n",
       "      <td>102</td>\n",
       "      <td>86</td>\n",
       "    </tr>\n",
       "    <tr>\n",
       "      <th>7</th>\n",
       "      <td>2014/2015</td>\n",
       "      <td>Manchester City</td>\n",
       "      <td>83</td>\n",
       "      <td>79</td>\n",
       "      <td>Chelsea</td>\n",
       "      <td>73</td>\n",
       "      <td>87</td>\n",
       "    </tr>\n",
       "    <tr>\n",
       "      <th>8</th>\n",
       "      <td>2015/2016</td>\n",
       "      <td>Manchester City</td>\n",
       "      <td>71</td>\n",
       "      <td>66</td>\n",
       "      <td>Leicester City</td>\n",
       "      <td>68</td>\n",
       "      <td>81</td>\n",
       "    </tr>\n",
       "  </tbody>\n",
       "</table>\n",
       "</div>"
      ],
      "text/plain": [
       "      season         score_team  score_team_goals  score_team_points  \\\n",
       "0  2008/2009          Liverpool                77                 86   \n",
       "1  2009/2010            Chelsea               103                 86   \n",
       "2  2010/2011  Manchester United                78                 80   \n",
       "3  2011/2012    Manchester City                93                 89   \n",
       "4  2011/2012    Manchester City                93                 89   \n",
       "5  2012/2013  Manchester United                86                 89   \n",
       "6  2013/2014    Manchester City               102                 86   \n",
       "7  2014/2015    Manchester City                83                 79   \n",
       "8  2015/2016    Manchester City                71                 66   \n",
       "\n",
       "            win_team  win_team_goals  win_team_points  \n",
       "0  Manchester United              68               90  \n",
       "1            Chelsea             103               86  \n",
       "2  Manchester United              78               80  \n",
       "3    Manchester City              93               89  \n",
       "4  Manchester United              89               89  \n",
       "5  Manchester United              86               89  \n",
       "6    Manchester City             102               86  \n",
       "7            Chelsea              73               87  \n",
       "8     Leicester City              68               81  "
      ]
     },
     "execution_count": 62,
     "metadata": {},
     "output_type": "execute_result"
    }
   ],
   "source": [
    "# combine information on the top scoring team and winner for each each epl season\n",
    "epl_top_goal_point = epl_top_goals.merge(epl_top_points, on='season')\n",
    "epl_top_goal_point"
   ]
  },
  {
   "cell_type": "markdown",
   "metadata": {},
   "source": [
    "Just by looking at the table we can clearly notice some seasons whereby the league winner was not the top scoring team. Let us get the exact numbers."
   ]
  },
  {
   "cell_type": "code",
   "execution_count": 63,
   "metadata": {},
   "outputs": [
    {
     "name": "stdout",
     "output_type": "stream",
     "text": [
      "Out of\u001b[1m 9 EPL seasons\u001b[0;0m recorded,\u001b[1m 5 \u001b[0;0mof them ended up with the league winner being the most prolific\n"
     ]
    }
   ],
   "source": [
    "#the number of times a EPL team was both winner and most prolific in the same season\n",
    "eplwinner_scorer_count = len(epl_top_goal_point[epl_top_goal_point['win_team']==epl_top_goal_point['score_team']])\n",
    "#the number of times a EPL winner was not the most prolific in the same season\n",
    "eplwinner_notscorer_count= len(epl_top_goal_point) - eplwinner_scorer_count\n",
    "print(\"Out of\"+bold_start, len(epl_top_goal_point),\"EPL seasons\"+bold_end+\" recorded,\"+bold_start, eplwinner_scorer_count, bold_end+\"of them ended up with the league winner being the most prolific\")"
   ]
  },
  {
   "cell_type": "code",
   "execution_count": 64,
   "metadata": {},
   "outputs": [
    {
     "data": {
      "image/png": "[encoded data removed]",
      "text/plain": [
       "<Figure size 432x288 with 1 Axes>"
      ]
     },
     "metadata": {},
     "output_type": "display_data"
    }
   ],
   "source": [
    "plt.pie([eplwinner_scorer_count, eplwinner_notscorer_count], labels=[\"eplwinner_scorer\", \"eplwinner_notscorer\"], autopct='%1.1f%%', startangle = 90, explode = (0, 0.01), wedgeprops=dict(width=0.6));\n",
    "plt.title(\"End of season EPL winner and scorer breakdown\",fontweight = 'bold');"
   ]
  },
  {
   "cell_type": "markdown",
   "metadata": {},
   "source": [
    "We can observe from the above that though the **EPL winning team was top scorer** more often, there were almost as many instances whereby the winning team was not the top scorer."
   ]
  },
  {
   "cell_type": "markdown",
   "metadata": {},
   "source": [
    "<a id='conclusions'></a>\n",
    "## Conclusions ✍️\n",
    "\n",
    "In the **2015/2016 season**:\n",
    "\n",
    "💡 **Spain LIGA BBVA** was the most prolific league with a total of **1043** goals witnessed. They were followed by **England Premier League**, **Italy Serie A**, **France Ligue 1** and **Netherlands Eredivisie** occupying the 2nd , 3rd, 4th, and 5th places respectively.\n",
    "\n",
    "💡 Non-tie matches are generally more likely won by the **home team** .\n",
    "\n",
    "\n",
    "---\n",
    "\n",
    "\n",
    "In the **English Premier League**:\n",
    "\n",
    "💡 With only **78 draws** witnessed in **3040 matches**, the **2013/2014** season recorded the lowest number.\n",
    "\n",
    "💡 Manchester United won the most league trophies - holding **4** out the **9** recorded.  \n",
    "\n",
    "💡 The **top scoring team** is general more likely to the be **winning team** at the end of the season.\n",
    "\n",
    "---\n",
    "**Limitation**:\n",
    "\n",
    "- Insights drawn cannot be used as conclusive evidence to reflect the future of match outcomes reason being that the data used is relatively old and data drift would have probably easily set in. "
   ]
  },
  {
   "cell_type": "markdown",
   "metadata": {},
   "source": [
    "**References**\n",
    "\n",
    "- https://www.kaggle.com/datasets/hugomathien/soccer\n",
    "- https://stackoverflow.com/questions/64179970/how-to-control-the-color-of-a-specific-column-in-a-bar-plot-depending-on-its-xt\n",
    "- https://stackoverflow.com/questions/68254094/python-pie-chart-font-size\n",
    "- https://stackoverflow.com/questions/8924173/how-to-print-bold-text-in-python"
   ]
  }
 ],
 "metadata": {
  "kernelspec": {
   "display_name": "advml",
   "language": "python",
   "name": "advml"
  },
  "language_info": {
   "codemirror_mode": {
    "name": "ipython",
    "version": 3
   },
   "file_extension": ".py",
   "mimetype": "text/x-python",
   "name": "python",
   "nbconvert_exporter": "python",
   "pygments_lexer": "ipython3",
   "version": "3.8.13"
  }
 },
 "nbformat": 4,
 "nbformat_minor": 2
}
